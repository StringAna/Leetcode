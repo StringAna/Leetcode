{
 "cells": [
  {
   "cell_type": "code",
   "execution_count": 1,
   "metadata": {},
   "outputs": [
    {
     "name": "stdout",
     "output_type": "stream",
     "text": [
      "5\n"
     ]
    }
   ],
   "source": [
    "class Solution(object):\n",
    "    def maxProfit(self, prices):\n",
    "        \"\"\"\n",
    "        :type prices: List[int]\n",
    "        :rtype: int\n",
    "        \"\"\"\n",
    "        l,r=0,1\n",
    "        max_Profit=0\n",
    "\n",
    "        #Keep iterating until right pointer reaches the end of prices array\n",
    "        while r<len(prices):\n",
    "            # Is this transaction profitable?\n",
    "            if prices[l]<prices[r]:\n",
    "                profit=prices[r]-prices[l]\n",
    "                max_Profit=max(max_Profit,profit)\n",
    "            else:\n",
    "                #the minimum profit that can be attained is when l=r\n",
    "                l=r\n",
    "            r+=1\n",
    "        return max_Profit\n",
    "        \n",
    "#Test cases\n",
    "prices=[7,1,5,3,6,4]\n",
    "sol=Solution()\n",
    "print(sol.maxProfit(prices)) #5"
   ]
  },
  {
   "cell_type": "code",
   "execution_count": null,
   "metadata": {},
   "outputs": [],
   "source": []
  }
 ],
 "metadata": {
  "kernelspec": {
   "display_name": "DataMining584",
   "language": "python",
   "name": "python3"
  },
  "language_info": {
   "codemirror_mode": {
    "name": "ipython",
    "version": 3
   },
   "file_extension": ".py",
   "mimetype": "text/x-python",
   "name": "python",
   "nbconvert_exporter": "python",
   "pygments_lexer": "ipython3",
   "version": "3.9.17"
  }
 },
 "nbformat": 4,
 "nbformat_minor": 2
}
