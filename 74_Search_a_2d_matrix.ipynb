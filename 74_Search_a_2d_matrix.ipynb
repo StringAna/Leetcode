{
 "cells": [
  {
   "cell_type": "code",
   "execution_count": 1,
   "metadata": {},
   "outputs": [
    {
     "name": "stdout",
     "output_type": "stream",
     "text": [
      "True\n"
     ]
    }
   ],
   "source": [
    "class Solution(object):\n",
    "    def searchMatrix(self, matrix, target):\n",
    "        \"\"\"\n",
    "        :type matrix: List[List[int]]\n",
    "        :type target: int\n",
    "        :rtype: bool\n",
    "        \"\"\"\n",
    "        #get the dimentions of the matrix\n",
    "        # len(matrix[0]):matrix[0] accesses the first row of the matrix, which is itself a list\n",
    "        rows,cols=len(matrix),len(matrix[0])\n",
    "\n",
    "        # First binary search: Look for the row which has target\n",
    "        # 2 pointers, 1 for the top row, 1 for the bottom row\n",
    "        top_row_ptr,bot_row_ptr=0,rows-1\n",
    "\n",
    "        # binary search until we find the row which contains the target\n",
    "        while top_row_ptr<=bot_row_ptr:\n",
    "            row=(top_row_ptr+bot_row_ptr)//2\n",
    "            # case 1: target value is greater than the largest value in this row\n",
    "            # matrix[row][-1] = the rightmost value in the row\n",
    "            if target> matrix[row][-1]:\n",
    "                # look at rows with even larger value\n",
    "                top_row_ptr=row+1\n",
    "            elif target<matrix[row][0]:\n",
    "                bot_row_ptr=row-1\n",
    "            else:\n",
    "                break\n",
    "        \n",
    "        if not(top_row_ptr<=bot_row_ptr):\n",
    "            return False\n",
    "\n",
    "        # 2nd portion of the binary search\n",
    "        # run binary search on the row which we found from the 1st BS\n",
    "        row=(top_row_ptr+bot_row_ptr)//2\n",
    "        left,right=0,cols-1\n",
    "\n",
    "        while left<=right:\n",
    "            mid=(left+right)//2\n",
    "\n",
    "            if target>matrix[row][mid]:\n",
    "                left=mid+1\n",
    "            elif target<matrix[row][mid]:\n",
    "                right=mid-1\n",
    "            else:\n",
    "                return True\n",
    "        return False\n",
    "        \n",
    "#calling the function\n",
    "matrix = [[1,3,5,7],[10,11,16,20],[23,30,34,60]]\n",
    "target = 3\n",
    "print(Solution().searchMatrix(matrix,target))\n",
    "\n",
    "\n",
    "        \n",
    "        "
   ]
  },
  {
   "cell_type": "code",
   "execution_count": null,
   "metadata": {},
   "outputs": [],
   "source": []
  }
 ],
 "metadata": {
  "kernelspec": {
   "display_name": "DataMining584",
   "language": "python",
   "name": "python3"
  },
  "language_info": {
   "codemirror_mode": {
    "name": "ipython",
    "version": 3
   },
   "file_extension": ".py",
   "mimetype": "text/x-python",
   "name": "python",
   "nbconvert_exporter": "python",
   "pygments_lexer": "ipython3",
   "version": "3.9.17"
  }
 },
 "nbformat": 4,
 "nbformat_minor": 2
}
