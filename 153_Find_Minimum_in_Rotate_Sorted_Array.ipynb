{
 "cells": [
  {
   "cell_type": "code",
   "execution_count": 1,
   "metadata": {},
   "outputs": [
    {
     "name": "stdout",
     "output_type": "stream",
     "text": [
      "1\n"
     ]
    }
   ],
   "source": [
    "class Solution(object):\n",
    "    def findMin(self, nums):\n",
    "        \"\"\"\n",
    "        :type nums: List[int]\n",
    "        :rtype: int\n",
    "        \"\"\"\n",
    "        #INSIGHT:\n",
    "        # Find the INFLECTION POINT: where the value descends suddenly. Eg: nums=[3,4,5,1,2]\n",
    "        # Inflection Point= 1\n",
    "        left, right=0,(len(nums)-1)\n",
    "        #set result to arbitrary default value\n",
    "        result=nums[0]\n",
    "        while left<=right:\n",
    "            # if a subarray is sorted, then update the result and break\n",
    "            if nums[left]<nums[right]:\n",
    "                result=min(result,nums[left])\n",
    "                break\n",
    "            \n",
    "            mid=(left+right)//2\n",
    "            result=min(result,nums[mid])\n",
    "            # If nums[mid]>first element of the array, inflection point lies in the RIGHT of mid\n",
    "            # shift LEFT pointer to mid+1\n",
    "            if nums[mid]>=nums[0]:\n",
    "                left=mid+1\n",
    "\n",
    "            \n",
    "            # If nums[mid]<first element of array, inflection point lies in the LEFT of mid\n",
    "            # shift RIGHT pointer to mid\n",
    "            else:\n",
    "                right=mid-1\n",
    "        #Continue this process until left points to the minimum element\n",
    "        return result\n",
    "#Call the function\n",
    "nums=[3,4,5,1,2]\n",
    "sol=Solution()\n",
    "print(sol.findMin(nums))"
   ]
  },
  {
   "cell_type": "code",
   "execution_count": null,
   "metadata": {},
   "outputs": [],
   "source": []
  }
 ],
 "metadata": {
  "kernelspec": {
   "display_name": "DataMining584",
   "language": "python",
   "name": "python3"
  },
  "language_info": {
   "codemirror_mode": {
    "name": "ipython",
    "version": 3
   },
   "file_extension": ".py",
   "mimetype": "text/x-python",
   "name": "python",
   "nbconvert_exporter": "python",
   "pygments_lexer": "ipython3",
   "version": "3.9.17"
  }
 },
 "nbformat": 4,
 "nbformat_minor": 2
}
