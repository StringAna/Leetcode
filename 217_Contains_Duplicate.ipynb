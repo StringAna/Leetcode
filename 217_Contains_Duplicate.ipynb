{
 "cells": [
  {
   "cell_type": "code",
   "execution_count": 2,
   "metadata": {},
   "outputs": [
    {
     "name": "stdout",
     "output_type": "stream",
     "text": [
      "False\n"
     ]
    }
   ],
   "source": [
    "from typing import List\n",
    "\n",
    "class Solution:\n",
    "    def containsDuplicate(self, nums: List[int]) -> bool:\n",
    "        mySet=set()\n",
    "        for i in range (0,len(nums)):\n",
    "            if nums[i] in mySet:\n",
    "                return True\n",
    "            else:\n",
    "                mySet.add(nums[i])\n",
    "        return False\n",
    "\n",
    "#Call the function\n",
    "nums=[1,2,3,4,5,6,7,8,9,10]\n",
    "sol=Solution()\n",
    "print(sol.containsDuplicate(nums))"
   ]
  }
 ],
 "metadata": {
  "kernelspec": {
   "display_name": "DataMining584",
   "language": "python",
   "name": "python3"
  },
  "language_info": {
   "codemirror_mode": {
    "name": "ipython",
    "version": 3
   },
   "file_extension": ".py",
   "mimetype": "text/x-python",
   "name": "python",
   "nbconvert_exporter": "python",
   "pygments_lexer": "ipython3",
   "version": "3.9.17"
  }
 },
 "nbformat": 4,
 "nbformat_minor": 2
}
