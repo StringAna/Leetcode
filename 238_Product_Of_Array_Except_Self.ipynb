{
 "cells": [
  {
   "cell_type": "markdown",
   "metadata": {},
   "source": [
    "### Solution with O(n) Space Complexity,\n",
    "### O(n) Time complexity\n",
    "Uses 2 extra arrays, prefix and postfix"
   ]
  },
  {
   "cell_type": "code",
   "execution_count": 1,
   "metadata": {},
   "outputs": [
    {
     "name": "stdout",
     "output_type": "stream",
     "text": [
      "[24, 12, 8, 6]\n"
     ]
    }
   ],
   "source": [
    "from typing import List\n",
    "\n",
    "class Solution:\n",
    "    def productExceptSelf(self, nums: List[int]) -> List[int]:\n",
    "        n = len(nums)\n",
    "        prefix_products = [1] * n\n",
    "        suffix_products = [1] * n\n",
    "        result = [1] * n\n",
    "\n",
    "        # Calculate prefix products\n",
    "        for i in range(1, n):\n",
    "            prefix_products[i] = prefix_products[i-1] * nums[i-1]\n",
    "\n",
    "        # Calculate suffix products\n",
    "        for i in range(n-2, -1, -1):\n",
    "            suffix_products[i] = suffix_products[i+1] * nums[i+1]\n",
    "\n",
    "        # Calculate result\n",
    "        for i in range(n):\n",
    "            result[i] = prefix_products[i] * suffix_products[i]\n",
    "\n",
    "        return result\n",
    "    \n",
    "#Call the function\n",
    "nums = [1,2,3,4]\n",
    "sol = Solution()\n",
    "print(sol.productExceptSelf(nums))"
   ]
  },
  {
   "cell_type": "markdown",
   "metadata": {},
   "source": [
    "### Solution with No Extra Space\n",
    "### Time Complexity: O(n)"
   ]
  },
  {
   "cell_type": "code",
   "execution_count": 2,
   "metadata": {},
   "outputs": [
    {
     "name": "stdout",
     "output_type": "stream",
     "text": [
      "[24, 12, 8, 6]\n"
     ]
    }
   ],
   "source": [
    "class Solution:\n",
    "    def productExceptSelf(self, nums: List[int]) -> List[int]:\n",
    "        #Solution: Without using extra space, Time : O(n)\n",
    "        result=[1]*len(nums)\n",
    "        prefix=1\n",
    "        postfix=1\n",
    "        for i in range(len(nums)):\n",
    "            # for each position in our result output array, we are going to take the prefix, put it in output array\n",
    "            result[i]=prefix\n",
    "            # after, take the input array value nums[i] with prefix = new prefix\n",
    "            prefix= nums[i]*prefix\n",
    "        \n",
    "        # parse from end of the input array nums, go upto the beginning\n",
    "        for i in range((len(nums))-1,-1,-1):\n",
    "            # If we simply store the postfix value to o/p array, it will overwrite the prefix values\n",
    "            # We multiply it with the value that is in result\n",
    "            result[i]=result[i]*postfix\n",
    "            # update the postfix by multiplying it by the value in i/p array nums\n",
    "            postfix=postfix*nums[i]\n",
    "        return result\n",
    "\n",
    "# Call the function\n",
    "nums = [1,2,3,4]\n",
    "sol = Solution()\n",
    "print(sol.productExceptSelf(nums))"
   ]
  },
  {
   "cell_type": "code",
   "execution_count": null,
   "metadata": {},
   "outputs": [],
   "source": []
  }
 ],
 "metadata": {
  "kernelspec": {
   "display_name": "DataMining584",
   "language": "python",
   "name": "python3"
  },
  "language_info": {
   "codemirror_mode": {
    "name": "ipython",
    "version": 3
   },
   "file_extension": ".py",
   "mimetype": "text/x-python",
   "name": "python",
   "nbconvert_exporter": "python",
   "pygments_lexer": "ipython3",
   "version": "3.9.17"
  }
 },
 "nbformat": 4,
 "nbformat_minor": 2
}
