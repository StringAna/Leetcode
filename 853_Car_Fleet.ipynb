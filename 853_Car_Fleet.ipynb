{
 "cells": [
  {
   "cell_type": "markdown",
   "metadata": {},
   "source": [
    "Time: O(nlogn) //sorting+stack operation\n",
    "\n",
    "Space: O(n)"
   ]
  },
  {
   "cell_type": "code",
   "execution_count": 1,
   "metadata": {},
   "outputs": [
    {
     "name": "stdout",
     "output_type": "stream",
     "text": [
      "3\n"
     ]
    }
   ],
   "source": [
    "from typing import List\n",
    "class Solution:\n",
    "    def carFleet(self, target: int, position: List[int], speed: List[int]) -> int:\n",
    "        # an array of pairs, (position, speed)\n",
    "        # List comprehension in python\n",
    "        # This can be done using hashmap too\n",
    "        position_speed=[[p,s] for p,s in zip(position,speed)]\n",
    "\n",
    "        # stack which tells us how many car fleets we have in the end\n",
    "        stack=[]\n",
    "\n",
    "        # sort the array of pairs\n",
    "        # iterate through this sorted array in reverse\n",
    "        for p,s in sorted(position_speed)[::-1]:\n",
    "            # when we get to a car, we want to know at what time it will\n",
    "            # ..reach the destination \n",
    "            # we can get that by (target-position of the car)/speed\n",
    "            # This is the decimal division, time can be a decimal. Do not make\n",
    "            #.. this an integer division by adding //\n",
    "            # append the time to the stack\n",
    "            stack.append((target-p)/s)\n",
    "\n",
    "            # check whether the time value inserted in the stack overlap with\n",
    "            #..the time value already present in the top of the stack\n",
    "            # If stack has atleast 2 elements in it\n",
    "            # stack[-1] = top of the stack\n",
    "            # stack[-2] = next top of the stack\n",
    "            # if both collide\n",
    "            if len(stack)>=2 and stack[-1] <= stack[-2]:\n",
    "                # pop from the top of the stack\n",
    "                # by doing this we are decreasing the number of car fleets\n",
    "                stack.pop()\n",
    "        return len(stack)\n",
    "\n",
    "#call the function\n",
    "target = 12\n",
    "position = [10,8,0,5,3]\n",
    "speed = [2,4,1,1,3]\n",
    "print(Solution().carFleet(target,position,speed))\n",
    "            \n"
   ]
  },
  {
   "cell_type": "code",
   "execution_count": null,
   "metadata": {},
   "outputs": [],
   "source": []
  }
 ],
 "metadata": {
  "kernelspec": {
   "display_name": "DataMining584",
   "language": "python",
   "name": "python3"
  },
  "language_info": {
   "codemirror_mode": {
    "name": "ipython",
    "version": 3
   },
   "file_extension": ".py",
   "mimetype": "text/x-python",
   "name": "python",
   "nbconvert_exporter": "python",
   "pygments_lexer": "ipython3",
   "version": "3.9.17"
  }
 },
 "nbformat": 4,
 "nbformat_minor": 2
}
