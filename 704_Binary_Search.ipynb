{
 "cells": [
  {
   "cell_type": "code",
   "execution_count": 1,
   "metadata": {},
   "outputs": [
    {
     "name": "stdout",
     "output_type": "stream",
     "text": [
      "4\n",
      "12\n",
      "4\n"
     ]
    }
   ],
   "source": [
    "from typing import List\n",
    "class Solution:\n",
    "    def search(self, nums: List[int], target: int) -> int:\n",
    "        low,high=0,len(nums)-1\n",
    "        \n",
    "        while low<=high:\n",
    "            mid=(low+high)//2\n",
    "            if target<nums[mid]:\n",
    "                high=mid-1\n",
    "            elif target>nums[mid]:\n",
    "                low=mid+1\n",
    "            else:\n",
    "                return mid\n",
    "        return -1\n",
    "#call the function\n",
    "nums = [-1,0,3,5,9,12]\n",
    "target = 9\n",
    "print(Solution().search(nums,target))\n",
    "nums = [8,9,10,11,12,13,14,15,16,17,18,19,20,21,22,23,24,25,26,27]\n",
    "target = 20\n",
    "print(Solution().search(nums,target))\n",
    "nums = [1,2,3,4,5,6,7,8,9,10]\n",
    "target = 5\n",
    "print(Solution().search(nums,target))"
   ]
  },
  {
   "cell_type": "code",
   "execution_count": null,
   "metadata": {},
   "outputs": [],
   "source": []
  }
 ],
 "metadata": {
  "kernelspec": {
   "display_name": "DataMining584",
   "language": "python",
   "name": "python3"
  },
  "language_info": {
   "codemirror_mode": {
    "name": "ipython",
    "version": 3
   },
   "file_extension": ".py",
   "mimetype": "text/x-python",
   "name": "python",
   "nbconvert_exporter": "python",
   "pygments_lexer": "ipython3",
   "version": "3.9.17"
  }
 },
 "nbformat": 4,
 "nbformat_minor": 2
}
