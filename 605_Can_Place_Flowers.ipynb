{
 "cells": [
  {
   "cell_type": "markdown",
   "metadata": {},
   "source": [
    "605. Can Place Flowers"
   ]
  },
  {
   "cell_type": "markdown",
   "metadata": {},
   "source": [
    "You have a long flowerbed in which some of the plots are planted, and some are not. However, flowers cannot be planted in adjacent plots.\n",
    "\n",
    "Given an integer array flowerbed containing 0's and 1's, where 0 means empty and 1 means not empty, and an integer n, return true if n new flowers can be planted in the flowerbed without violating the no-adjacent-flowers rule and false otherwise.\n",
    "\n",
    " \n",
    "\n",
    "Example 1:\n",
    "\n",
    "Input: flowerbed = [1,0,0,0,1], n = 1\n",
    "Output: true\n",
    "Example 2:\n",
    "\n",
    "Input: flowerbed = [1,0,0,0,1], n = 2\n",
    "Output: false\n",
    " \n",
    "\n",
    "Constraints:\n",
    "\n",
    "1 <= flowerbed.length <= 2 * 104\n",
    "flowerbed[i] is 0 or 1.\n",
    "There are no two adjacent flowers in flowerbed.\n",
    "0 <= n <= flowerbed.length"
   ]
  },
  {
   "cell_type": "code",
   "execution_count": 1,
   "metadata": {},
   "outputs": [
    {
     "name": "stdout",
     "output_type": "stream",
     "text": [
      "True\n"
     ]
    }
   ],
   "source": [
    "from typing import List\n",
    "\n",
    "class Solution:\n",
    "    # Greedy approach\n",
    "    # Time complexity: O(n)\n",
    "    # Space complexity: O(1)\n",
    "    # where n is the length of the flowerbed, and we are iterating over the flowerbed array once.\n",
    "    # We are not using any extra space, so the space complexity is O(1).\n",
    "    def canPlaceFlowers(self, flowerbed: List[int], n: int) -> bool:\n",
    "        count = 0\n",
    "        flowerbed = [0] + flowerbed + [0]  # Add 0s at both ends to handle edge cases\n",
    "\n",
    "        for i in range(1, len(flowerbed) - 1):\n",
    "            # Check if the current, previous, and next plots are empty\n",
    "            if flowerbed[i-1] == flowerbed[i] == flowerbed[i+1] == 0:\n",
    "                # Plant a flower at the current plot\n",
    "                flowerbed[i] = 1\n",
    "                # Increment the count of planted flowers\n",
    "                count += 1\n",
    "            # If we have planted enough flowers, return True    \n",
    "            if count >= n:\n",
    "                return True\n",
    "        # If we have not planted enough flowers, return False\n",
    "        return False\n",
    "\n",
    "#Calling the function and printing the result\n",
    "print(Solution().canPlaceFlowers([1,0,0,0,1], 1)) #Expected output is True"
   ]
  },
  {
   "cell_type": "markdown",
   "metadata": {},
   "source": [
    "Notes:\n",
    "\n",
    "1. I was confused about the role of n. I thought it meant the length of flowerbed. n is infact the numebr of flowers that can be planted\n",
    "2. Can there be a better approach?"
   ]
  }
 ],
 "metadata": {
  "kernelspec": {
   "display_name": "DataMining584",
   "language": "python",
   "name": "python3"
  },
  "language_info": {
   "codemirror_mode": {
    "name": "ipython",
    "version": 3
   },
   "file_extension": ".py",
   "mimetype": "text/x-python",
   "name": "python",
   "nbconvert_exporter": "python",
   "pygments_lexer": "ipython3",
   "version": "3.9.17"
  }
 },
 "nbformat": 4,
 "nbformat_minor": 2
}
