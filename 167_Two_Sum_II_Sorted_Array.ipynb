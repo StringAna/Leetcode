{
 "cells": [
  {
   "cell_type": "markdown",
   "metadata": {},
   "source": [
    "Using the sorted array to our advantage, making use of two pointers, left and right."
   ]
  },
  {
   "cell_type": "code",
   "execution_count": 3,
   "metadata": {},
   "outputs": [
    {
     "name": "stdout",
     "output_type": "stream",
     "text": [
      "[1, 2]\n",
      "[4, 9]\n"
     ]
    }
   ],
   "source": [
    "from typing import List\n",
    "\n",
    "class Solution:\n",
    "    def twoSum(self, numbers: List[int], target: int) -> List[int]:\n",
    "        left=0\n",
    "        right=len(numbers)-1\n",
    "\n",
    "        while left<right:\n",
    "            if numbers[left]+numbers[right]>target:\n",
    "                right-=1\n",
    "            if numbers[left]+numbers[right]<target:\n",
    "                left+=1\n",
    "            if numbers[left]+numbers[right]==target:\n",
    "                return [left+1,right+1]\n",
    "\n",
    "# Call the function\n",
    "numbers = [2,7,11,15]\n",
    "target = 9\n",
    "sol = Solution()\n",
    "print(sol.twoSum(numbers, target))\n",
    "numbers=[2,3,4,5,6,7,8,9,10]\n",
    "target=15\n",
    "sol = Solution()\n",
    "print(sol.twoSum(numbers, target))"
   ]
  },
  {
   "cell_type": "markdown",
   "metadata": {},
   "source": [
    "Time: O(n)\n",
    "Space: O(1)"
   ]
  },
  {
   "cell_type": "code",
   "execution_count": null,
   "metadata": {},
   "outputs": [],
   "source": []
  }
 ],
 "metadata": {
  "kernelspec": {
   "display_name": "DataMining584",
   "language": "python",
   "name": "python3"
  },
  "language_info": {
   "codemirror_mode": {
    "name": "ipython",
    "version": 3
   },
   "file_extension": ".py",
   "mimetype": "text/x-python",
   "name": "python",
   "nbconvert_exporter": "python",
   "pygments_lexer": "ipython3",
   "version": "3.9.17"
  }
 },
 "nbformat": 4,
 "nbformat_minor": 2
}
