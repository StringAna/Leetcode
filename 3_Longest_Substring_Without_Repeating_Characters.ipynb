{
 "cells": [
  {
   "cell_type": "code",
   "execution_count": 1,
   "metadata": {},
   "outputs": [
    {
     "name": "stdout",
     "output_type": "stream",
     "text": [
      "3\n"
     ]
    }
   ],
   "source": [
    "class Solution(object):\n",
    "    def lengthOfLongestSubstring(self, s):\n",
    "        \"\"\"\n",
    "        :type s: str\n",
    "        :rtype: int\n",
    "        \"\"\"\n",
    "        # set for substring\n",
    "        set_Substr=set()\n",
    "\n",
    "        # Sliding window = 2 pointers\n",
    "        l,r=0,1\n",
    "\n",
    "        result_length=0\n",
    "        for r in range(len(s)):\n",
    "            # if we get a dupe, update the SW AND update the set\n",
    "            while s[r] in set_Substr:\n",
    "                # remove left ptr element from set\n",
    "                set_Substr.remove(s[l])\n",
    "                # update left ptr\n",
    "                l+=1\n",
    "                # Keep doing this until duplicates are in the set\n",
    "\n",
    "            #After all dupes removed, add the rightmost character to our Set\n",
    "            set_Substr.add(s[r])\n",
    "\n",
    "            # Because we removed all dupes from our substr, we can now update the result lgt variable\n",
    "            result_length=max(result_length,r-l+1)\n",
    "        return result_length\n",
    "\n",
    "#Test cases\n",
    "s=Solution()\n",
    "print(s.lengthOfLongestSubstring(\"abcabcbb\")) #3"
   ]
  },
  {
   "cell_type": "code",
   "execution_count": null,
   "metadata": {},
   "outputs": [],
   "source": []
  }
 ],
 "metadata": {
  "kernelspec": {
   "display_name": "DataMining584",
   "language": "python",
   "name": "python3"
  },
  "language_info": {
   "codemirror_mode": {
    "name": "ipython",
    "version": 3
   },
   "file_extension": ".py",
   "mimetype": "text/x-python",
   "name": "python",
   "nbconvert_exporter": "python",
   "pygments_lexer": "ipython3",
   "version": "3.9.17"
  }
 },
 "nbformat": 4,
 "nbformat_minor": 2
}
