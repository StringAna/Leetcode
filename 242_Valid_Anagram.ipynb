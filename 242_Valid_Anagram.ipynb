{
 "cells": [
  {
   "cell_type": "code",
   "execution_count": 8,
   "metadata": {},
   "outputs": [
    {
     "name": "stdout",
     "output_type": "stream",
     "text": [
      "True\n"
     ]
    }
   ],
   "source": [
    "class Solution:\n",
    "    def isAnagram(self, s: str, t: str) -> bool:\n",
    "        hmS={} #initialize hashmap\n",
    "        hmT={}\n",
    "        if len(s)!=len(t):\n",
    "            return False\n",
    "        for char in s:\n",
    "            if char in hmS:\n",
    "                hmS[char]+=1\n",
    "            else:\n",
    "                hmS[char]=1\n",
    "        for char in t:\n",
    "            if char in hmT:\n",
    "                hmT[char]+=1\n",
    "            else:\n",
    "                hmT[char]=1\n",
    "        return hmS==hmT\n",
    "\n",
    "#call the function\n",
    "sol=Solution()\n",
    "print(sol.isAnagram(\"anagram\",\"nagaram\")) #True"
   ]
  }
 ],
 "metadata": {
  "kernelspec": {
   "display_name": "DataMining584",
   "language": "python",
   "name": "python3"
  },
  "language_info": {
   "codemirror_mode": {
    "name": "ipython",
    "version": 3
   },
   "file_extension": ".py",
   "mimetype": "text/x-python",
   "name": "python",
   "nbconvert_exporter": "python",
   "pygments_lexer": "ipython3",
   "version": "3.9.17"
  }
 },
 "nbformat": 4,
 "nbformat_minor": 2
}
