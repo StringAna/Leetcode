{
 "cells": [
  {
   "cell_type": "code",
   "execution_count": 2,
   "metadata": {},
   "outputs": [
    {
     "name": "stdout",
     "output_type": "stream",
     "text": [
      "[1, 0]\n"
     ]
    }
   ],
   "source": [
    "#Two Sum : Assume there is only 1 solution\n",
    "from typing import List\n",
    "class Solution:\n",
    "    def twoSum(self, nums: List[int], target: int) -> List[int]:\n",
    "        myDict={}\n",
    "        for i in range(0,len(nums)):\n",
    "            complement=target-nums[i]\n",
    "            if complement in myDict:\n",
    "                return [i,myDict[complement]]\n",
    "            else:\n",
    "                myDict[nums[i]]=i\n",
    "        return\n",
    "\n",
    "#Time complexity is O(n) and space complexity is O(n)\n",
    "#hash table based solution\n",
    "#Call the function with the list of numbers and the target sum\n",
    "sol=Solution()\n",
    "print(sol.twoSum([2,7,11,15],9))"
   ]
  }
 ],
 "metadata": {
  "kernelspec": {
   "display_name": "DataMining584",
   "language": "python",
   "name": "python3"
  },
  "language_info": {
   "codemirror_mode": {
    "name": "ipython",
    "version": 3
   },
   "file_extension": ".py",
   "mimetype": "text/x-python",
   "name": "python",
   "nbconvert_exporter": "python",
   "pygments_lexer": "ipython3",
   "version": "3.9.17"
  }
 },
 "nbformat": 4,
 "nbformat_minor": 2
}
