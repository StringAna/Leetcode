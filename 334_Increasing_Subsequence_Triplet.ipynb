{
 "cells": [
  {
   "cell_type": "markdown",
   "metadata": {},
   "source": [
    "Given an integer array nums, return true if there exists a triple of indices (i, j, k) such that i < j < k and nums[i] < nums[j] < nums[k]. If no such indices exists, return false.\n",
    "\n",
    "Example 1:\n",
    "\n",
    "Input: nums = [1,2,3,4,5]\n",
    "\n",
    "Output: true\n",
    "\n",
    "Explanation: Any triplet where i < j < k is valid.\n",
    "\n",
    "\n",
    "Example 2:\n",
    "\n",
    "Input: nums = [5,4,3,2,1]\n",
    "\n",
    "Output: false\n",
    "\n",
    "Explanation: No triplet exists.\n",
    "\n",
    "\n",
    "Example 3:\n",
    "\n",
    "Input: nums = [2,1,5,0,4,6]\n",
    "\n",
    "Output: true\n",
    "\n",
    "Explanation: The triplet (3, 4, 5) is valid because nums[3] == 0 < nums[4] == 4 < nums[5] == 6."
   ]
  },
  {
   "cell_type": "code",
   "execution_count": 3,
   "metadata": {},
   "outputs": [
    {
     "name": "stdout",
     "output_type": "stream",
     "text": [
      "True\n"
     ]
    }
   ],
   "source": [
    "from typing import List\n",
    "\n",
    "class Solution:\n",
    "    def increasingTriplet(self, nums: List[int]) -> bool:\n",
    "        first = second = float('inf')\n",
    "        for num in nums:\n",
    "            if num <= first:\n",
    "                first = num\n",
    "            elif num <= second:\n",
    "                second = num\n",
    "            else:\n",
    "                return True\n",
    "        return False\n",
    "\n",
    "#Call the function\n",
    "nums = [1,2,3,4,5]\n",
    "result = Solution().increasingTriplet(nums)\n",
    "print(result)\n"
   ]
  },
  {
   "cell_type": "markdown",
   "metadata": {},
   "source": [
    "My notes:\n",
    "1. The idea is to keep track of the smallest and second smallest number in the array.\n",
    "2. If we find a number that is greater than both of these numbers, we return True.\n",
    "3. If we don't find such a number, we return False.\n",
    "4. Time complexity is O(n) and space complexity is O(1).\n",
    "I like the simplicity of this solution. It is very easy to understand."
   ]
  },
  {
   "cell_type": "code",
   "execution_count": null,
   "metadata": {},
   "outputs": [],
   "source": []
  }
 ],
 "metadata": {
  "kernelspec": {
   "display_name": "DataMining584",
   "language": "python",
   "name": "python3"
  },
  "language_info": {
   "codemirror_mode": {
    "name": "ipython",
    "version": 3
   },
   "file_extension": ".py",
   "mimetype": "text/x-python",
   "name": "python",
   "nbconvert_exporter": "python",
   "pygments_lexer": "ipython3",
   "version": "3.9.17"
  }
 },
 "nbformat": 4,
 "nbformat_minor": 2
}
