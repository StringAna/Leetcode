{
 "cells": [
  {
   "cell_type": "markdown",
   "metadata": {},
   "source": [
    "Given an array of characters chars, compress it using the following algorithm:\n",
    "Begin with an empty string s. For each group of consecutive repeating characters in chars:\n",
    "If the group's length is 1, append the character to s.\n",
    "Otherwise, append the character followed by the group's length.\n",
    "The compressed string s should not be returned separately, but instead, be stored in the input character array chars. Note that group lengths that are 10 or longer will be split into multiple characters in chars.\n",
    "\n",
    "After you are done modifying the input array, return the new length of the array.\n",
    "\n",
    "You must write an algorithm that uses only constant extra space.\n",
    "\n",
    "Example 1:\n",
    "\n",
    "Input: chars = [\"a\",\"a\",\"b\",\"b\",\"c\",\"c\",\"c\"]\n",
    "\n",
    "Output: Return 6, and the first 6 characters of the input array should be: [\"a\",\"2\",\"b\",\"2\",\"c\",\"3\"]\n",
    "\n",
    "Explanation: The groups are \"aa\", \"bb\", and \"ccc\". This compresses to \"a2b2c3\".\n",
    "\n",
    "\n",
    "Example 2:\n",
    "\n",
    "Input: chars = [\"a\"]\n",
    "\n",
    "Output: Return 1, and the first character of the input array should be: [\"a\"]\n",
    "\n",
    "Explanation: The only group is \"a\", which remains uncompressed since it's a single character.\n",
    "\n",
    "Example 3:\n",
    "\n",
    "Input: chars = [\"a\",\"b\",\"b\",\"b\",\"b\",\"b\",\"b\",\"b\",\"b\",\"b\",\"b\",\"b\",\"b\"]\n",
    "\n",
    "Output: Return 4, and the first 4 characters of the input array should be: [\"a\",\"b\",\"1\",\"2\"].\n",
    "\n",
    "Explanation: The groups are \"a\" and \"bbbbbbbbbbbb\". This compresses to \"ab12\"."
   ]
  },
  {
   "cell_type": "code",
   "execution_count": 1,
   "metadata": {},
   "outputs": [
    {
     "name": "stdout",
     "output_type": "stream",
     "text": [
      "6\n",
      "['a', '2', 'b', '2', 'c', '3', 'c']\n"
     ]
    }
   ],
   "source": [
    "from typing import List\n",
    "\n",
    "class Solution:\n",
    "    def compress(self, chars: List[str]) -> int:\n",
    "        index = i = 0\n",
    "        while i < len(chars):\n",
    "            chars[index] = chars[i]\n",
    "            count = 0\n",
    "            while i < len(chars) and chars[index] == chars[i]:\n",
    "                i += 1\n",
    "                count += 1\n",
    "            if count > 1:\n",
    "                for digit in str(count):\n",
    "                    index += 1\n",
    "                    chars[index] = digit\n",
    "            index += 1\n",
    "        return index\n",
    "    \n",
    "#Call the function\n",
    "chars = [\"a\",\"a\",\"b\",\"b\",\"c\",\"c\",\"c\"]\n",
    "sol = Solution()\n",
    "print(sol.compress(chars))\n",
    "print(chars)"
   ]
  },
  {
   "cell_type": "markdown",
   "metadata": {},
   "source": [
    "Places where I was confused-\n",
    "1. Line 9: adding a check for i<len(chars)\n",
    "2. For the result string, I was doing char[i+1]=char[index], which was completely wrong. If a group's count is greater than 1, then it goes in the result by default."
   ]
  }
 ],
 "metadata": {
  "kernelspec": {
   "display_name": "DataMining584",
   "language": "python",
   "name": "python3"
  },
  "language_info": {
   "codemirror_mode": {
    "name": "ipython",
    "version": 3
   },
   "file_extension": ".py",
   "mimetype": "text/x-python",
   "name": "python",
   "nbconvert_exporter": "python",
   "pygments_lexer": "ipython3",
   "version": "3.9.17"
  }
 },
 "nbformat": 4,
 "nbformat_minor": 2
}
