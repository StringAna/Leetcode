{
 "cells": [
  {
   "cell_type": "code",
   "execution_count": 1,
   "metadata": {},
   "outputs": [
    {
     "name": "stdout",
     "output_type": "stream",
     "text": [
      "True\n"
     ]
    }
   ],
   "source": [
    "# Time complexity: O(n^2)\n",
    "# Space complexity: O(n^2)\n",
    "import collections\n",
    "from typing import List\n",
    "\n",
    "class Solution:\n",
    "    def isValidSudoku(self, board: List[List[str]]) -> bool:\n",
    "        # Detecting dupes with a Hset\n",
    "        # Using a Hashmap, where key: column number, value: set(represents all values in this column)\n",
    "        col=collections.defaultdict(set)\n",
    "        # similarly for rows\n",
    "        row=collections.defaultdict(set)\n",
    "        # for 3 x 3 squares\n",
    "        # key: (row/3 , col/3)\n",
    "        square= collections.defaultdict(set)\n",
    "\n",
    "        # iterate over the entire grid\n",
    "        for r in range(0,9):\n",
    "            for c in range(0,9):\n",
    "                # A position in the sudoku board can be empty. Empty space represented by a \".\"\n",
    "                # Continue to the next iteration of the loop\n",
    "                if board[r][c]==\".\":\n",
    "                    continue\n",
    "                # if we have found a duplicate in this value, then we return False\n",
    "                # the current row that we are in\n",
    "                if(board[r][c] in row[r] or\n",
    "                board[r][c] in col[c] or\n",
    "                board[r][c] in square[(r//3,c//3)]):\n",
    "                    # board[r][c] in square[r//3,c//3]: returns set of all the values that we have seen before in the current square\n",
    "                    return False\n",
    "                # to update our hash sets\n",
    "                col[c].add(board[r][c])\n",
    "                row[r].add(board[r][c])\n",
    "                square[(r//3,c//3)].add(board[r][c])\n",
    "\n",
    "        return True\n",
    "\n",
    "# Call the function\n",
    "board = [[\"5\",\"3\",\".\",\".\",\"7\",\".\",\".\",\".\",\".\"],\n",
    "         [\"6\",\".\",\".\",\"1\",\"9\",\"5\",\".\",\".\",\".\"],\n",
    "         [\".\",\"9\",\"8\",\".\",\".\",\".\",\".\",\"6\",\".\"],\n",
    "         [\"8\",\".\",\".\",\".\",\"6\",\".\",\".\",\".\",\"3\"],\n",
    "         [\"4\",\".\",\".\",\"8\",\".\",\"3\",\".\",\".\",\"1\"],\n",
    "         [\"7\",\".\",\".\",\".\",\"2\",\".\",\".\",\".\",\"6\"],\n",
    "         [\".\",\"6\",\".\",\".\",\".\",\".\",\"2\",\"8\",\".\"],\n",
    "         [\".\",\".\",\".\",\"4\",\"1\",\"9\",\".\",\".\",\"5\"],\n",
    "         [\".\",\".\",\".\",\".\",\"8\",\".\",\".\",\"7\",\"9\"]]\n",
    "sol = Solution()\n",
    "print(sol.isValidSudoku(board)) # True"
   ]
  }
 ],
 "metadata": {
  "kernelspec": {
   "display_name": "DataMining584",
   "language": "python",
   "name": "python3"
  },
  "language_info": {
   "codemirror_mode": {
    "name": "ipython",
    "version": 3
   },
   "file_extension": ".py",
   "mimetype": "text/x-python",
   "name": "python",
   "nbconvert_exporter": "python",
   "pygments_lexer": "ipython3",
   "version": "3.9.17"
  }
 },
 "nbformat": 4,
 "nbformat_minor": 2
}
