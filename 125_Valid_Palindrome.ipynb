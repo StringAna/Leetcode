{
 "cells": [
  {
   "cell_type": "code",
   "execution_count": 2,
   "metadata": {},
   "outputs": [
    {
     "name": "stdout",
     "output_type": "stream",
     "text": [
      "True\n"
     ]
    }
   ],
   "source": [
    "class Solution:\n",
    "    def isPalindrome(self, s: str) -> bool:\n",
    "        newStr=\"\"\n",
    "        for c in s:\n",
    "            if c.isalnum():\n",
    "                newStr+=c.lower()\n",
    "        return newStr==newStr[::-1]\n",
    "    \n",
    "# test\n",
    "input_str = \"A man, a plan, a canal: Panama\"\n",
    "solution = Solution()\n",
    "print(solution.isPalindrome(input_str))\n"
   ]
  },
  {
   "cell_type": "markdown",
   "metadata": {},
   "source": [
    "Solution without using extra space, and custom isalnum() function"
   ]
  },
  {
   "cell_type": "code",
   "execution_count": 1,
   "metadata": {},
   "outputs": [
    {
     "name": "stdout",
     "output_type": "stream",
     "text": [
      "True\n"
     ]
    }
   ],
   "source": [
    "class Solution:\n",
    "    def isPalindrome(self, s: str) -> bool:\n",
    "        left=0\n",
    "        right=len(s)-1\n",
    "\n",
    "        while left<right:\n",
    "            while left<right and not self.isAlphaNumeric(s[left]):\n",
    "                left+=1\n",
    "            while right>left and not self.isAlphaNumeric(s[right]):\n",
    "                right-=1\n",
    "            if s[left].lower()!=s[right].lower():\n",
    "                return False\n",
    "            left+=1\n",
    "            right-=1\n",
    "        \n",
    "        return True\n",
    "    \n",
    "    def isAlphaNumeric(self,c):\n",
    "        return (ord('A')<=ord(c)<=ord('Z') or ord('a')<=ord(c)<=ord('z') or ord('0')<=ord(c)<=ord('9'))\n",
    "\n",
    "#Call the function\n",
    "input_str = \"A man, a plan, a canal: Panama\"\n",
    "solution = Solution()\n",
    "print(solution.isPalindrome(input_str))\n"
   ]
  },
  {
   "cell_type": "code",
   "execution_count": null,
   "metadata": {},
   "outputs": [],
   "source": []
  }
 ],
 "metadata": {
  "kernelspec": {
   "display_name": "DataMining584",
   "language": "python",
   "name": "python3"
  },
  "language_info": {
   "codemirror_mode": {
    "name": "ipython",
    "version": 3
   },
   "file_extension": ".py",
   "mimetype": "text/x-python",
   "name": "python",
   "nbconvert_exporter": "python",
   "pygments_lexer": "ipython3",
   "version": "3.9.17"
  }
 },
 "nbformat": 4,
 "nbformat_minor": 2
}
