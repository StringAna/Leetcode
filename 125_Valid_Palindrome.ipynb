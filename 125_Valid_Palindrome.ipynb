{
 "cells": [
  {
   "cell_type": "code",
   "execution_count": 2,
   "metadata": {},
   "outputs": [
    {
     "name": "stdout",
     "output_type": "stream",
     "text": [
      "True\n"
     ]
    }
   ],
   "source": [
    "class Solution:\n",
    "    def isPalindrome(self, s: str) -> bool:\n",
    "        newStr=\"\"\n",
    "        for c in s:\n",
    "            if c.isalnum():\n",
    "                newStr+=c.lower()\n",
    "        return newStr==newStr[::-1]\n",
    "    \n",
    "# test\n",
    "input_str = \"A man, a plan, a canal: Panama\"\n",
    "solution = Solution()\n",
    "print(solution.isPalindrome(input_str))\n"
   ]
  }
 ],
 "metadata": {
  "kernelspec": {
   "display_name": "DataMining584",
   "language": "python",
   "name": "python3"
  },
  "language_info": {
   "codemirror_mode": {
    "name": "ipython",
    "version": 3
   },
   "file_extension": ".py",
   "mimetype": "text/x-python",
   "name": "python",
   "nbconvert_exporter": "python",
   "pygments_lexer": "ipython3",
   "version": "3.9.17"
  }
 },
 "nbformat": 4,
 "nbformat_minor": 2
}
