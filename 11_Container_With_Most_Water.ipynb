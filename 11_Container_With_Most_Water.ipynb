{
 "cells": [
  {
   "cell_type": "code",
   "execution_count": 3,
   "metadata": {},
   "outputs": [
    {
     "name": "stdout",
     "output_type": "stream",
     "text": [
      "49\n",
      "1\n"
     ]
    }
   ],
   "source": [
    "from typing import List\n",
    "\n",
    "class Solution:\n",
    "    def maxArea(self, height: List[int]) -> int:\n",
    "        #BRUTE FORCE\n",
    "        result_area=0\n",
    "\n",
    "        #try out all possible combination\n",
    "        #left pointer goes through every single index\n",
    "        #right pointer is always atleast 1 position ahead of the left\n",
    "        #calculate the area\n",
    "        for left in range(0,len(height)-1):\n",
    "            for right in range(left+1,len(height)):\n",
    "                area=min(height[left],height[right])*(right-left)\n",
    "                result_area=max(area,result_area)\n",
    "        return result_area\n",
    "    \n",
    "#Time complexity is O(n^2) as we are trying out all possible combinations\n",
    "#Space complexity is O(1) as we are not using any extra space\n",
    "#This solution is not efficient\n",
    "\n",
    "# Create an instance of the Solution class\n",
    "solution = Solution()\n",
    "\n",
    "# Call the maxArea method on the instance\n",
    "print(solution.maxArea([1,8,6,2,5,4,8,3,7]))\n",
    "#Another test case\n",
    "print(solution.maxArea([1,1]))"
   ]
  },
  {
   "cell_type": "code",
   "execution_count": null,
   "metadata": {},
   "outputs": [],
   "source": []
  }
 ],
 "metadata": {
  "kernelspec": {
   "display_name": "DataMining584",
   "language": "python",
   "name": "python3"
  },
  "language_info": {
   "codemirror_mode": {
    "name": "ipython",
    "version": 3
   },
   "file_extension": ".py",
   "mimetype": "text/x-python",
   "name": "python",
   "nbconvert_exporter": "python",
   "pygments_lexer": "ipython3",
   "version": "3.9.17"
  }
 },
 "nbformat": 4,
 "nbformat_minor": 2
}
