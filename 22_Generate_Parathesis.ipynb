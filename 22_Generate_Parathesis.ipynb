{
 "cells": [
  {
   "cell_type": "code",
   "execution_count": 2,
   "metadata": {},
   "outputs": [
    {
     "name": "stdout",
     "output_type": "stream",
     "text": [
      "['((()))', '(()())', '(())()', '()(())', '()()()']\n"
     ]
    }
   ],
   "source": [
    "from typing import List\n",
    "\n",
    "\n",
    "class Solution:\n",
    "    def generateParenthesis(self, n: int) -> List[str]:\n",
    "        # only add open paranthesis if open<n\n",
    "        # only add close paranthesis if close<open\n",
    "        # we are only going to stop adding paranthesis if open==close==n\n",
    "        # Recursion\n",
    "        stack=[]\n",
    "        result=[] #holds list of valid paranthesis combination\n",
    "\n",
    "        # for recursion\n",
    "        def backtracking(open,close):\n",
    "            # base case\n",
    "            if open==close==n:\n",
    "                # Take every character in the stack and join them together in an empty string\n",
    "                # once they are joined together, append them to the result list\n",
    "                # return this\n",
    "                result.append(\"\".join(stack))\n",
    "                return\n",
    "            \n",
    "            # open < n\n",
    "            if open<n:\n",
    "                # append a open paranthesis to our stack\n",
    "                stack.append(\"(\")\n",
    "                # recursively backtrack\n",
    "                # also, we have to increment open and close count\n",
    "                backtracking(open+1,close)\n",
    "                # after backtracking is returned, we have to clean our stack,\n",
    "                # since we only have one global stack variable\n",
    "                stack.pop()\n",
    "\n",
    "            if close<open:\n",
    "                stack.append(\")\")\n",
    "                backtracking(open,close+1)\n",
    "                stack.pop()\n",
    "        backtracking(0,0)\n",
    "        return result    \n",
    "\n",
    "# Call the function\n",
    "n=3\n",
    "sol=Solution()\n",
    "print(sol.generateParenthesis(n))"
   ]
  }
 ],
 "metadata": {
  "kernelspec": {
   "display_name": "DataMining584",
   "language": "python",
   "name": "python3"
  },
  "language_info": {
   "codemirror_mode": {
    "name": "ipython",
    "version": 3
   },
   "file_extension": ".py",
   "mimetype": "text/x-python",
   "name": "python",
   "nbconvert_exporter": "python",
   "pygments_lexer": "ipython3",
   "version": "3.9.17"
  }
 },
 "nbformat": 4,
 "nbformat_minor": 2
}
