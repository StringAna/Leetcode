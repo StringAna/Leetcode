{
 "cells": [
  {
   "cell_type": "markdown",
   "metadata": {},
   "source": [
    "Time: O(n)\n",
    "Space: O(n)"
   ]
  },
  {
   "cell_type": "code",
   "execution_count": 1,
   "metadata": {},
   "outputs": [
    {
     "name": "stdout",
     "output_type": "stream",
     "text": [
      "9\n",
      "6\n",
      "22\n"
     ]
    }
   ],
   "source": [
    "from typing import List\n",
    "\n",
    "\n",
    "class Solution:\n",
    "    def evalRPN(self, tokens: List[str]) -> int:\n",
    "        stack=[]\n",
    "        for character in tokens:\n",
    "            # There are 5 cases: +, -, *, \\ , or any other character, which means a digit\n",
    "            if character == \"+\":\n",
    "                # pop the stack twice\n",
    "                # take the return value\n",
    "                # append it to the stack after calculation\n",
    "                stack.append(stack.pop()+stack.pop())\n",
    "            elif character == \"-\":\n",
    "                # the order that we are popping the elements \n",
    "                # is NOT the order in which we are applying the operation\n",
    "                a,b= stack.pop(),stack.pop()\n",
    "                # popped 2nd - popped 1st - LOOK AT NOTES example\n",
    "                stack.append(b-a)\n",
    "            elif character == \"*\":\n",
    "                stack.append(stack.pop()*stack.pop())\n",
    "            elif character == \"/\":\n",
    "                a,b= stack.pop(),stack.pop()\n",
    "                # int converts to integers and also round the value towards 0\n",
    "                stack.append(int(b/a))\n",
    "            else:\n",
    "                # It is a digit. Convert to integer and then append to stack\n",
    "                stack.append(int(character))\n",
    "        return stack[0]\n",
    "\n",
    "# Call the function\n",
    "s=Solution()\n",
    "print(s.evalRPN([\"2\",\"1\",\"+\",\"3\",\"*\"])) # 9\n",
    "print(s.evalRPN([\"4\",\"13\",\"5\",\"/\",\"+\"])) # 6\n",
    "print(s.evalRPN([\"10\",\"6\",\"9\",\"3\",\"+\",\"-11\",\"*\",\"/\",\"*\",\"17\",\"+\",\"5\",\"+\"])) # 22"
   ]
  },
  {
   "cell_type": "code",
   "execution_count": null,
   "metadata": {},
   "outputs": [],
   "source": []
  }
 ],
 "metadata": {
  "kernelspec": {
   "display_name": "DataMining584",
   "language": "python",
   "name": "python3"
  },
  "language_info": {
   "codemirror_mode": {
    "name": "ipython",
    "version": 3
   },
   "file_extension": ".py",
   "mimetype": "text/x-python",
   "name": "python",
   "nbconvert_exporter": "python",
   "pygments_lexer": "ipython3",
   "version": "3.9.17"
  }
 },
 "nbformat": 4,
 "nbformat_minor": 2
}
