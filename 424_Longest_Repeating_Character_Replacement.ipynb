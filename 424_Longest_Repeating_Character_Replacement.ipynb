{
 "cells": [
  {
   "cell_type": "code",
   "execution_count": 1,
   "metadata": {},
   "outputs": [
    {
     "name": "stdout",
     "output_type": "stream",
     "text": [
      "4\n",
      "4\n"
     ]
    }
   ],
   "source": [
    "class Solution(object):\n",
    "    def characterReplacement(self, s, k):\n",
    "        \"\"\"\n",
    "        :type s: str\n",
    "        :type k: int\n",
    "        :rtype: int\n",
    "        \"\"\"\n",
    "        #hashmap to count substring char count\n",
    "        count={}\n",
    "        result=0\n",
    "\n",
    "        l=0\n",
    "        for r in range(len(s)):\n",
    "            # increment the count of character at position r\n",
    "            count[s[r]]=1+count.get(s[r],0)\n",
    "\n",
    "            #check if current window is valid = len(window) - count(most freq char in substr)\n",
    "            while (r-l+1 - max(count.values())) > k:\n",
    "                #count of the char at left position, decrement it by 1, since we are shifting the window\n",
    "                count[s[l]] -=1\n",
    "                #then increment left pointer\n",
    "                l+=1\n",
    "            result= max(result,(r-l+1))\n",
    "        return result  \n",
    "\n",
    "sol=Solution()\n",
    "print(sol.characterReplacement(\"ABAB\",2)) #4      \n",
    "print(sol.characterReplacement(\"AABABBA\",1)) #4"
   ]
  },
  {
   "cell_type": "code",
   "execution_count": null,
   "metadata": {},
   "outputs": [],
   "source": []
  },
  {
   "cell_type": "code",
   "execution_count": null,
   "metadata": {},
   "outputs": [],
   "source": []
  }
 ],
 "metadata": {
  "kernelspec": {
   "display_name": "DataMining584",
   "language": "python",
   "name": "python3"
  },
  "language_info": {
   "codemirror_mode": {
    "name": "ipython",
    "version": 3
   },
   "file_extension": ".py",
   "mimetype": "text/x-python",
   "name": "python",
   "nbconvert_exporter": "python",
   "pygments_lexer": "ipython3",
   "version": "3.9.17"
  }
 },
 "nbformat": 4,
 "nbformat_minor": 2
}
