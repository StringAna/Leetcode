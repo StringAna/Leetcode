{
 "cells": [
  {
   "cell_type": "code",
   "execution_count": 3,
   "metadata": {},
   "outputs": [
    {
     "name": "stdout",
     "output_type": "stream",
     "text": [
      "[[-1, -1, 2], [-1, 0, 1]]\n",
      "[]\n"
     ]
    }
   ],
   "source": [
    "from typing import List\n",
    "\n",
    "\n",
    "class Solution:\n",
    "    def threeSum(self, nums: List[int]) -> List[List[int]]:\n",
    "        # result is a list of lists\n",
    "        result=[]\n",
    "        #sort the input array\n",
    "        nums.sort()\n",
    "\n",
    "        # Use each number in the input array as a possible first value,\n",
    "        # iterate through the index and the value\n",
    "        for i,a in enumerate(nums):\n",
    "            # we can't have the same value in position \"a\" twice\n",
    "            if i>0 and nums[i]==nums[i-1]:\n",
    "                #skip\n",
    "                continue\n",
    "            \n",
    "            # Use 2 pointer for the remaining array\n",
    "            left,right=i+1,len(nums)-1\n",
    "\n",
    "            while left<right:\n",
    "                three_sum=a+nums[left]+nums[right]\n",
    "\n",
    "                if three_sum>0:\n",
    "                    right-=1\n",
    "                elif three_sum<0:\n",
    "                    left+=1\n",
    "                else: #three_sum==0:\n",
    "                    result.append([a,nums[left],nums[right]])\n",
    "                    #updating of the left pointer\n",
    "                    left+=1\n",
    "                    # we only need to update one pointer\n",
    "                    # keep updating until adjacent cells are not duplicate\n",
    "                    while nums[left]==nums[left-1] and left<right:\n",
    "                        left+=1\n",
    "        return result\n",
    "\n",
    "#Call the function\n",
    "nums=[-1,0,1,2,-1,-4]\n",
    "sol=Solution()\n",
    "print(sol.threeSum(nums))\n",
    "nums=[9,8,7,6,5,4,3,2,1,0]\n",
    "print(sol.threeSum(nums))"
   ]
  },
  {
   "cell_type": "code",
   "execution_count": null,
   "metadata": {},
   "outputs": [],
   "source": []
  }
 ],
 "metadata": {
  "kernelspec": {
   "display_name": "DataMining584",
   "language": "python",
   "name": "python3"
  },
  "language_info": {
   "codemirror_mode": {
    "name": "ipython",
    "version": 3
   },
   "file_extension": ".py",
   "mimetype": "text/x-python",
   "name": "python",
   "nbconvert_exporter": "python",
   "pygments_lexer": "ipython3",
   "version": "3.9.17"
  }
 },
 "nbformat": 4,
 "nbformat_minor": 2
}
