{
 "cells": [
  {
   "cell_type": "code",
   "execution_count": 4,
   "metadata": {},
   "outputs": [
    {
     "name": "stdout",
     "output_type": "stream",
     "text": [
      "4\n",
      "9\n"
     ]
    }
   ],
   "source": [
    "from typing import List\n",
    "\n",
    "class Solution:\n",
    "    def longestConsecutive(self, nums: List[int]) -> int:\n",
    "        # Step 1: Create a Set from input array\n",
    "        # Pass the input array into the set constructor\n",
    "        numsSet=set(nums)\n",
    "\n",
    "        # Step 2: We want to keep track of what the longest cons subsequence is\n",
    "        # initially, set it to 0\n",
    "        longest=0\n",
    "\n",
    "        # Step 3: Iterate through every number through the nums array\n",
    "        for element in nums:\n",
    "            # check if each number is the start of a sequence\n",
    "            # this can be done by checking if (eg. 100-1 = 99) exists in the nums\n",
    "            # check left neighbor of a element\n",
    "            if (element-1) not in numsSet:\n",
    "                # Initialize a length variable that counts length of every sequence.\n",
    "                length=0\n",
    "                # Now, we need to see the right neighbors\n",
    "                # this can be calculated by (100+length), and keep increasing length\n",
    "                while (element+length) in numsSet: # checks current number\n",
    "                    length+=1\n",
    "                longest=max(length,longest)\n",
    "        return longest\n",
    "\n",
    "# Time complexity: O(n)\n",
    "# Space complexity: O(n)\n",
    "# Calling the function\n",
    "nums=[100,4,200,1,3,2]\n",
    "s=Solution()\n",
    "print(s.longestConsecutive(nums))\n",
    "\n",
    "nums1=[0,3,7,2,5,8,4,6,0,1]\n",
    "s=Solution()\n",
    "print(s.longestConsecutive(nums1))"
   ]
  },
  {
   "cell_type": "code",
   "execution_count": null,
   "metadata": {},
   "outputs": [],
   "source": []
  }
 ],
 "metadata": {
  "kernelspec": {
   "display_name": "DataMining584",
   "language": "python",
   "name": "python3"
  },
  "language_info": {
   "codemirror_mode": {
    "name": "ipython",
    "version": 3
   },
   "file_extension": ".py",
   "mimetype": "text/x-python",
   "name": "python",
   "nbconvert_exporter": "python",
   "pygments_lexer": "ipython3",
   "version": "3.9.17"
  }
 },
 "nbformat": 4,
 "nbformat_minor": 2
}
