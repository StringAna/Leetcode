{
 "cells": [
  {
   "cell_type": "code",
   "execution_count": 1,
   "metadata": {},
   "outputs": [
    {
     "name": "stdout",
     "output_type": "stream",
     "text": [
      "-3\n",
      "0\n",
      "-2\n"
     ]
    }
   ],
   "source": [
    "class MinStack:\n",
    "\n",
    "    def __init__(self):\n",
    "        # stack to store elements\n",
    "        self.stack=[]\n",
    "        # min stack to store the minimum at each element\n",
    "        self.minStack=[]\n",
    "\n",
    "    def push(self, val: int) -> None:\n",
    "        # take input value and append it to the first stack\n",
    "        self.stack.append(val)\n",
    "        # For minStack\n",
    "        # If there is a value already in the minStack\n",
    "        # Then take the min(value being inserted, value at top of the minStack)\n",
    "        # Top of minStack = self.minStack[-1]\n",
    "        # take top of minStack only if its non empty, else take just val\n",
    "        val=min(val, self.minStack[-1] if self.minStack else val)\n",
    "        # Append this min value to the minStack\n",
    "        self.minStack.append(val)\n",
    "\n",
    "    def pop(self) -> None:\n",
    "        self.stack.pop()\n",
    "        self.minStack.pop()\n",
    "\n",
    "    def top(self) -> int:\n",
    "        # take from the top of stack\n",
    "        # only call this is the stack is non empty\n",
    "        return self.stack[-1]\n",
    "\n",
    "    def getMin(self) -> int:\n",
    "        return self.minStack[-1]\n",
    "\n",
    "\n",
    "# Your MinStack object will be instantiated and called as such:\n",
    "# obj = MinStack()\n",
    "# obj.push(val)\n",
    "# obj.pop()\n",
    "# param_3 = obj.top()\n",
    "# param_4 = obj.getMin()\n",
    "\n",
    "# Time complexity is O(1) for all operations\n",
    "# call the functions\n",
    "obj = MinStack()\n",
    "obj.push(-2)\n",
    "obj.push(0)\n",
    "obj.push(-3)\n",
    "print(obj.getMin())\n",
    "obj.pop()\n",
    "print(obj.top())\n",
    "print(obj.getMin())\n"
   ]
  },
  {
   "cell_type": "code",
   "execution_count": null,
   "metadata": {},
   "outputs": [],
   "source": []
  }
 ],
 "metadata": {
  "kernelspec": {
   "display_name": "DataMining584",
   "language": "python",
   "name": "python3"
  },
  "language_info": {
   "codemirror_mode": {
    "name": "ipython",
    "version": 3
   },
   "file_extension": ".py",
   "mimetype": "text/x-python",
   "name": "python",
   "nbconvert_exporter": "python",
   "pygments_lexer": "ipython3",
   "version": "3.9.17"
  }
 },
 "nbformat": 4,
 "nbformat_minor": 2
}
