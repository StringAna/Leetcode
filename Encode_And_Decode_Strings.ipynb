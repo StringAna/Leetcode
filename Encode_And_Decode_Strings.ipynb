{
 "cells": [
  {
   "cell_type": "markdown",
   "metadata": {},
   "source": [
    "Design an algorithm to encode a list of strings to a single string. The encoded string is then decoded back to the original list of strings.\n",
    "\n",
    "Please implement encode and decode\n",
    "\n",
    "Input: [\"neet\",\"code\",\"love\",\"you\"]\n",
    "\n",
    "Output:[\"neet\",\"code\",\"love\",\"you\"]\n",
    "\n",
    "Constraints: Stateless, Cannot use extra DS"
   ]
  },
  {
   "cell_type": "code",
   "execution_count": 6,
   "metadata": {},
   "outputs": [
    {
     "name": "stdout",
     "output_type": "stream",
     "text": [
      "4#neet4#code\n",
      "['neet', 'code']\n"
     ]
    }
   ],
   "source": [
    "class Solution:\n",
    "    \"\"\"\n",
    "    @param: strs: a list of strings\n",
    "    @return: encodes a list of strings to a single string.\n",
    "    \"\"\"\n",
    "    def encode(self, strs):\n",
    "        # the encoded string should be a single string\n",
    "        result=\"\"\n",
    "\n",
    "        #go string by string through the input\n",
    "        for s in strs:\n",
    "            # to the result, we want to append the encoded string\n",
    "            # Encoded string= len(s) + \"#\" + s\n",
    "            result+=str(len(s))+\"#\"+s\n",
    "        return result\n",
    "\n",
    "    \"\"\"\n",
    "    @param: str: A string\n",
    "    @return: decodes a single string to a list of strings\n",
    "    \"\"\"\n",
    "    def decode(self, str):\n",
    "        # Given a single encoded string, decode it into a LIST of strings\n",
    "        # pointer: to keep track of the current position that we are at in the encoded string\n",
    "        result, pointer=[],0\n",
    "\n",
    "        # iterate character by character while pointer is within the length of the encoded string \n",
    "        while (pointer<len(str)):\n",
    "\n",
    "            # Example of encoded string: 3#abc5#def\n",
    "            # the first position that we read would be an integer\n",
    "            # Keep reading the integer until we find a delimiter \"#\"\n",
    "            character=pointer\n",
    "            while str[character]!=\"#\":\n",
    "                # keep incrementing character by 1\n",
    "                # we are guaranteed to find the # character\n",
    "                character+=1\n",
    "            # Once # is found,\n",
    "            # we can find the length of the string - the integer\n",
    "            # starts from pointer to character(not included)\n",
    "            len_Of_String=int(str[pointer:character])\n",
    "            result.append(str[character+1:character+1+len_Of_String])\n",
    "\n",
    "            # done with reading a word,\n",
    "            # How do we move on to the next word?\n",
    "            # we need to move the pointer to the next word\n",
    "            pointer= character+1+len_Of_String\n",
    "        return result\n",
    "\n",
    "# Time Complexity: O(n)\n",
    "# Call the Solution\n",
    "s=Solution()\n",
    "# Test the encode function\n",
    "print(s.encode([\"neet\",\"code\"]))\n",
    "# Test the decode function\n",
    "print(s.decode(\"4#neet4#code\"))\n"
   ]
  }
 ],
 "metadata": {
  "kernelspec": {
   "display_name": "DataMining584",
   "language": "python",
   "name": "python3"
  },
  "language_info": {
   "codemirror_mode": {
    "name": "ipython",
    "version": 3
   },
   "file_extension": ".py",
   "mimetype": "text/x-python",
   "name": "python",
   "nbconvert_exporter": "python",
   "pygments_lexer": "ipython3",
   "version": "3.9.17"
  }
 },
 "nbformat": 4,
 "nbformat_minor": 2
}
