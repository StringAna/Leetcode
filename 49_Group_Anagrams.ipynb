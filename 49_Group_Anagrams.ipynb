{
 "cells": [
  {
   "cell_type": "code",
   "execution_count": 1,
   "metadata": {},
   "outputs": [
    {
     "name": "stdout",
     "output_type": "stream",
     "text": [
      "dict_values([['eat', 'tea', 'ate'], ['tan', 'nat'], ['bat']])\n"
     ]
    }
   ],
   "source": [
    "#Group Anagrams problem from Leetcode\n",
    "from collections import defaultdict\n",
    "from typing import List\n",
    "\n",
    "\n",
    "class Solution:\n",
    "    def groupAnagrams(self, strs: List[str]) -> List[List[str]]:\n",
    "        #if you try to access or modify a key that doesn't exist in res, instead of raising a KeyError like a regular dictionary would, defaultdict automatically creates that key with an empty list as its value.\n",
    "        res=defaultdict(list)\n",
    "        for stringElement in strs:\n",
    "            count=[0]*26\n",
    "            for character in stringElement:\n",
    "                count[ord(character)-ord('a')]+=1\n",
    "            res[tuple(count)].append(stringElement)\n",
    "        return res.values()\n",
    "#calling the function\n",
    "sol=Solution()\n",
    "print(sol.groupAnagrams([\"eat\", \"tea\", \"tan\", \"ate\", \"nat\", \"bat\"]))"
   ]
  }
 ],
 "metadata": {
  "kernelspec": {
   "display_name": "DataMining584",
   "language": "python",
   "name": "python3"
  },
  "language_info": {
   "codemirror_mode": {
    "name": "ipython",
    "version": 3
   },
   "file_extension": ".py",
   "mimetype": "text/x-python",
   "name": "python",
   "nbconvert_exporter": "python",
   "pygments_lexer": "ipython3",
   "version": "3.9.17"
  }
 },
 "nbformat": 4,
 "nbformat_minor": 2
}
