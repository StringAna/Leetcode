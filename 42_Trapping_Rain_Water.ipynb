{
 "cells": [
  {
   "cell_type": "markdown",
   "metadata": {},
   "source": [
    "Time Complexity\n",
    "Initialization of max_Left and max_Right arrays: This step takes (O(n)) time, where (n) is the length of the height array, as it involves initializing two arrays of length (n) with zeros.\n",
    "\n",
    "First for loop to fill max_Left: This loop runs from 1 to n-1, thus taking (O(n-1)) which simplifies to (O(n)).\n",
    "\n",
    "Second for loop to fill max_Right: Similar to the first loop, this also iterates (n-1) times, resulting in (O(n)) time complexity.\n",
    "\n",
    "Third for loop to calculate water_Trapped and result: This loop iterates (n-1) times as well, contributing another (O(n)) to the time complexity.\n",
    "\n",
    "Since these steps are executed sequentially, the overall time complexity is (O(n) + O(n) + O(n) + O(n) = O(4n)), which simplifies to (O(n)).\n",
    "\n",
    "Space Complexity\n",
    "Space for max_Left and max_Right arrays: Both arrays are of length (n), so they take (O(n) + O(n) = O(2n)) space.\n",
    "\n",
    "Auxiliary space: The space used for variables water_Trapped, result, and the loop index i is constant, (O(1)).\n",
    "\n",
    "Therefore, the overall space complexity is (O(2n) + O(1)), which simplifies to (O(n)), as the space required for the two arrays dominates the constant space used for simple variables.\n",
    "\n",
    "Time complexity of the code is (O(n)) and the space complexity is (O(n)).\n",
    "\n"
   ]
  },
  {
   "cell_type": "code",
   "execution_count": 1,
   "metadata": {},
   "outputs": [
    {
     "name": "stdout",
     "output_type": "stream",
     "text": [
      "6\n"
     ]
    }
   ],
   "source": [
    "from typing import List\n",
    "\n",
    "class Solution:\n",
    "    def trap(self, height: List[int]) -> int:\n",
    "        #For height=[0] case\n",
    "        if len(height) < 2:  # Add this check\n",
    "            return 0\n",
    "        max_Left=[0]*len(height)\n",
    "        max_Right=[0]*len(height)\n",
    "        max_Left[1]=height[0]\n",
    "        water_Trapped=0\n",
    "        result=0\n",
    "        for i in range(1,len(height)-1):\n",
    "            max_Left[i]=max(height[i-1],max_Left[i-1])\n",
    "        for i in range(len(height)-2,-1,-1):\n",
    "            max_Right[i]=max(height[i+1],max_Right[i+1])\n",
    "        for i in range(0,len(height)-1):\n",
    "            water_Trapped=min(max_Left[i],max_Right[i])-height[i]\n",
    "            if(water_Trapped>=0):\n",
    "                result+=water_Trapped\n",
    "        return result\n",
    "\n",
    "#call the function\n",
    "height=[0,1,0,2,1,0,1,3,2,1,2,1]\n",
    "sol=Solution()\n",
    "print(sol.trap(height))\n",
    "       "
   ]
  },
  {
   "cell_type": "code",
   "execution_count": null,
   "metadata": {},
   "outputs": [],
   "source": []
  }
 ],
 "metadata": {
  "kernelspec": {
   "display_name": "DataMining584",
   "language": "python",
   "name": "python3"
  },
  "language_info": {
   "codemirror_mode": {
    "name": "ipython",
    "version": 3
   },
   "file_extension": ".py",
   "mimetype": "text/x-python",
   "name": "python",
   "nbconvert_exporter": "python",
   "pygments_lexer": "ipython3",
   "version": "3.9.17"
  }
 },
 "nbformat": 4,
 "nbformat_minor": 2
}
