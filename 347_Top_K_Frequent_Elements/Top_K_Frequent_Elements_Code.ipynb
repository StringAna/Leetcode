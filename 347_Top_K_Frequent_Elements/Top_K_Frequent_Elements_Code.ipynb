{
 "cells": [
  {
   "cell_type": "code",
   "execution_count": 2,
   "metadata": {},
   "outputs": [
    {
     "name": "stdout",
     "output_type": "stream",
     "text": [
      "[1, 2]\n"
     ]
    }
   ],
   "source": [
    "#Top K Frequent Elements Leetcode\n",
    "from collections import defaultdict\n",
    "import heapq\n",
    "from typing import List\n",
    "\n",
    "\n",
    "class Solution:\n",
    "    def topKFrequent(self, nums: List[int], k: int) -> List[int]:\n",
    "        myDict=defaultdict(int)\n",
    "        result=[]\n",
    "        for element in nums:\n",
    "            myDict[element]+=1\n",
    "        # Create a max heap with (negative count, element) pairs\n",
    "        max_heap = [(-count, element) for element, count in myDict.items()]\n",
    "        heapq.heapify(max_heap)\n",
    "\n",
    "        #Pop K times from the max heap\n",
    "        top_k_items=[]\n",
    "        for _ in range(k):\n",
    "            if max_heap: #to check if the heap is not empty\n",
    "                top_k_items.append(heapq.heappop(max_heap)[1])\n",
    "        return top_k_items\n",
    "#Calling the function\n",
    "nums=[1,1,1,2,2,3]\n",
    "k=2\n",
    "result=Solution().topKFrequent(nums,k)\n",
    "print(result)"
   ]
  }
 ],
 "metadata": {
  "kernelspec": {
   "display_name": "DataMining584",
   "language": "python",
   "name": "python3"
  },
  "language_info": {
   "codemirror_mode": {
    "name": "ipython",
    "version": 3
   },
   "file_extension": ".py",
   "mimetype": "text/x-python",
   "name": "python",
   "nbconvert_exporter": "python",
   "pygments_lexer": "ipython3",
   "version": "3.9.17"
  }
 },
 "nbformat": 4,
 "nbformat_minor": 2
}
