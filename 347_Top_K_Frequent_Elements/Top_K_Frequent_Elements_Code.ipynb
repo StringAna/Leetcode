{
 "cells": [
  {
   "cell_type": "code",
   "execution_count": 1,
   "metadata": {},
   "outputs": [
    {
     "name": "stdout",
     "output_type": "stream",
     "text": [
      "[(-3, 1), (-2, 2), (-1, 3)]\n",
      "[1, 2]\n"
     ]
    }
   ],
   "source": [
    "#Top K Frequent Elements Leetcode\n",
    "from collections import defaultdict\n",
    "import heapq\n",
    "from typing import List\n",
    "\n",
    "\n",
    "class Solution:\n",
    "    def topKFrequent(self, nums: List[int], k: int) -> List[int]:\n",
    "        myDict=defaultdict(int)\n",
    "        result=[]\n",
    "        for element in nums:\n",
    "            myDict[element]+=1\n",
    "        # Create a max heap with (negative count, element) pairs\n",
    "        max_heap = [(-count, element) for element, count in myDict.items()]\n",
    "        print(max_heap)\n",
    "        heapq.heapify(max_heap)\n",
    "\n",
    "        #Pop K times from the max heap\n",
    "        top_k_items=[]\n",
    "        for _ in range(k):\n",
    "            if max_heap: #to check if the heap is not empty\n",
    "                top_k_items.append(heapq.heappop(max_heap)[1])\n",
    "        return top_k_items\n",
    "#Calling the function\n",
    "nums=[1,1,1,2,2,3]\n",
    "k=2\n",
    "result=Solution().topKFrequent(nums,k)\n",
    "print(result)"
   ]
  },
  {
   "cell_type": "code",
   "execution_count": 2,
   "metadata": {},
   "outputs": [
    {
     "name": "stdout",
     "output_type": "stream",
     "text": [
      "[1, 2]\n"
     ]
    }
   ],
   "source": [
    "#Bucket Sort solution for the same problem\n",
    "class Solution:\n",
    "    def topKFrequent(self, nums: List[int], k: int) -> List[int]:\n",
    "        #Bucket sort, Time: O(n), Space: O(n)\n",
    "        hash_count={} #Hashmap to find the count of elements in nums\n",
    "        #Bucket array = same size as input array\n",
    "        #index = count of element, value= the list of elements that have that count\n",
    "        # initialize this with an empty array. The number of times this happens is = to the size of the input array\n",
    "        bucket_freq=[[] for i in range(len(nums)+1)]\n",
    "\n",
    "        #Go through every value in nums and count how many times it occurs\n",
    "        for i in nums:\n",
    "            #if i does not exist in hashmap, it gives default value of 0\n",
    "            #stores the count of each element in input array into a hashmap\n",
    "            hash_count[i]=1+hash_count.get(i,0)\n",
    "        \n",
    "        #Now, bucket sort.\n",
    "        # for.... gives key-value pair that we added to our hashmap hash_count()\n",
    "        for element,count in hash_count.items():\n",
    "            # fill values in bucket_freq: key= count, value= [list of elements with that count]\n",
    "            bucket_freq[count].append(element)\n",
    "        \n",
    "        # Now, we need to get K freq elements from bucket_freq.\n",
    "        result=[] #stores top K elements\n",
    "        # iterate from last to first, in descending order\n",
    "        for i in range(len(bucket_freq)-1,0,-1):\n",
    "            # go through every list value\n",
    "            for eachList in bucket_freq[i]:\n",
    "                result.append(eachList)\n",
    "                #stop filling values in result array if the size of result array=k\n",
    "                if(len(result)==k):\n",
    "                    return result\n",
    "\n",
    "#Calling the function\n",
    "nums=[1,1,1,2,2,3]\n",
    "k=2\n",
    "result=Solution().topKFrequent(nums,k)\n",
    "print(result)"
   ]
  }
 ],
 "metadata": {
  "kernelspec": {
   "display_name": "DataMining584",
   "language": "python",
   "name": "python3"
  },
  "language_info": {
   "codemirror_mode": {
    "name": "ipython",
    "version": 3
   },
   "file_extension": ".py",
   "mimetype": "text/x-python",
   "name": "python",
   "nbconvert_exporter": "python",
   "pygments_lexer": "ipython3",
   "version": "3.9.17"
  }
 },
 "nbformat": 4,
 "nbformat_minor": 2
}
