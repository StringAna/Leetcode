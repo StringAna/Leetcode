{
 "cells": [
  {
   "cell_type": "code",
   "execution_count": 2,
   "metadata": {},
   "outputs": [
    {
     "name": "stdout",
     "output_type": "stream",
     "text": [
      "[50]\n",
      "[50, 30]\n",
      "[50, 30, 20]\n",
      "[50, 30, 20, 15]\n",
      "[50, 30, 20, 15, 10]\n",
      "[50, 30, 20, 15, 10, 8]\n",
      "[50, 30, 20, 15, 10, 8, 16]\n",
      "[50, 30, 20, 15, 10, 8, 16]\n"
     ]
    }
   ],
   "source": [
    "#Max heap\n",
    "class MaxHeap:\n",
    "    def __init__(self):\n",
    "        self.heap = []\n",
    "  \n",
    "    def insert(self, value):\n",
    "        #Append the new value to the end of the heap.\n",
    "        self.heap.append(value)\n",
    "        #to get the index of the last element in a list\n",
    "        # -1 because indexing starts from 0\n",
    "        self._siftUp(len(self.heap) - 1)\n",
    "        print(self.heap)\n",
    "    \n",
    "    # sift up the new value to its proper position. This is done in a loop that compares the new value with its parent and swaps them if the parent is smaller.\n",
    "    def _siftUp(self, index):\n",
    "        parent=(index-1)//2\n",
    "        if index>0 and self.heap[index]>self.heap[parent]:\n",
    "            self.heap[index],self.heap[parent]=self.heap[parent],self.heap[index]\n",
    "            self._siftUp(parent)\n",
    "\n",
    "arr=[50,30,20,15,10,8,16]\n",
    "heap = MaxHeap()\n",
    "for value in arr:\n",
    "    heap.insert(value)\n",
    "#Print the final heap\n",
    "print(heap.heap)"
   ]
  }
 ],
 "metadata": {
  "kernelspec": {
   "display_name": "DataMining584",
   "language": "python",
   "name": "python3"
  },
  "language_info": {
   "codemirror_mode": {
    "name": "ipython",
    "version": 3
   },
   "file_extension": ".py",
   "mimetype": "text/x-python",
   "name": "python",
   "nbconvert_exporter": "python",
   "pygments_lexer": "ipython3",
   "version": "3.9.17"
  }
 },
 "nbformat": 4,
 "nbformat_minor": 2
}
