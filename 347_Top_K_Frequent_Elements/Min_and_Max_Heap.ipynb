{
 "cells": [
  {
   "cell_type": "code",
   "execution_count": null,
   "metadata": {},
   "outputs": [],
   "source": [
    "#Min and Max heap from scratch in Python\n",
    "\n",
    "class MinHeap:\n",
    "    def __init__(self):\n",
    "        self.heap = []\n",
    "\n",
    "\n",
    "    def __percolateUp(self, index):\n",
    "        parent = (index-1)//2\n",
    "        if index <= 0:\n",
    "            return\n",
    "        elif self.heap[parent] > self.heap[index]:\n",
    "            self.heap[parent], self.heap[index] = self.heap[index], self.heap[parent]\n",
    "            self.__percolateUp(parent)\n",
    "\n",
    "    def __minHeapify(self, index):\n",
    "        left = (index * 2) + 1\n",
    "        right = (index * 2) + 2\n",
    "        smallest = index\n",
    "        if len(self.heap) > left and self.heap[smallest] > self.heap[left]:\n",
    "            smallest = left\n",
    "        if len(self.heap) > right and self.heap[smallest] > self.heap[right]:\n",
    "            smallest = right\n",
    "        if smallest != index:\n",
    "            self.heap[smallest], self.heap[index] = self.heap[index], self.heap[smallest]\n",
    "            self.__minHeapify(smallest)\n"
   ]
  }
 ],
 "metadata": {
  "language_info": {
   "name": "python"
  }
 },
 "nbformat": 4,
 "nbformat_minor": 2
}
