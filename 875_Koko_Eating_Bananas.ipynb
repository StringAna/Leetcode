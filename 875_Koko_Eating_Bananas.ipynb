{
 "cells": [
  {
   "cell_type": "code",
   "execution_count": 1,
   "metadata": {},
   "outputs": [
    {
     "name": "stdout",
     "output_type": "stream",
     "text": [
      "4\n"
     ]
    }
   ],
   "source": [
    "import math\n",
    "class Solution(object):\n",
    "    def minEatingSpeed(self, piles, h):\n",
    "        \"\"\"\n",
    "        :type piles: List[int]\n",
    "        :type h: int\n",
    "        :rtype: int\n",
    "        \"\"\"\n",
    "        #find the max value in piles array, assign in to right pointer\n",
    "        # left = 1:this is not index. This is the actual value. That is why it is 1\n",
    "        left,right=1,max(piles)\n",
    "        #result: initialize it to the max value in piles,\n",
    "        #.. because we have to find the min value of k\n",
    "        result=right\n",
    "\n",
    "        while left<=right:\n",
    "            k=(left+right)//2\n",
    "\n",
    "            #find total hours\n",
    "            hours=0\n",
    "\n",
    "            # loop through every pile in ip array piles\n",
    "            for p in piles:\n",
    "                #use math.ceil to round up\n",
    "                #Convert p to float, so that you get a decimal that can be rounded up\n",
    "                # or else it will do integer division and disregard the decimal values\n",
    "                hours+=math.ceil(float(p)/k)\n",
    "            #check if the calculated hours is <= h(input hours)\n",
    "            if hours<=h:\n",
    "                #YES: update the result\n",
    "                # the result would be a minimum of k and itself\n",
    "                result=min(k,result)\n",
    "\n",
    "                #then, update the binary search\n",
    "                #set the right pointer to k-1\n",
    "                right=k-1\n",
    "            else:\n",
    "                #update the binary search\n",
    "                #set the left pointer to k+1\n",
    "                left=k+1\n",
    "        return result\n",
    "    \n",
    "#test the solution\n",
    "sol=Solution()\n",
    "print(sol.minEatingSpeed([3,6,7,11],8)) #4"
   ]
  },
  {
   "cell_type": "markdown",
   "metadata": {},
   "source": [
    "- Time Complexity Breakdown:\n",
    "1. Binary Search Component:\n",
    "The binary search operates over a range from 1 to max(piles).\n",
    "The number of iterations in binary search is logarithmic in the size of this range.\n",
    "Therefore, the time complexity for the binary search component is O(log(max(piles))).\n",
    "\n",
    "2. Total Hours Calculation for Each k:\n",
    "For each candidate value of k in the binary search, the algorithm iterates over the piles array to compute the total hours required.\n",
    "This involves one pass through the piles array, which has n elements (where n is the number of piles).\n",
    "The time complexity for this part is O(n).\n",
    "\n",
    "3. Overall Time Complexity:\n",
    "The binary search makes O(log(max(piles))) iterations.\n",
    "For each iteration of the binary search, the total hours calculation takes O(n) time.\n",
    "Therefore, the overall time complexity of the algorithm is =\n",
    "O(n * log(max(piles))).\n",
    "\n",
    "- Space Complexity: O(1)"
   ]
  },
  {
   "cell_type": "code",
   "execution_count": null,
   "metadata": {},
   "outputs": [],
   "source": []
  }
 ],
 "metadata": {
  "kernelspec": {
   "display_name": "DataMining584",
   "language": "python",
   "name": "python3"
  },
  "language_info": {
   "codemirror_mode": {
    "name": "ipython",
    "version": 3
   },
   "file_extension": ".py",
   "mimetype": "text/x-python",
   "name": "python",
   "nbconvert_exporter": "python",
   "pygments_lexer": "ipython3",
   "version": "3.9.17"
  }
 },
 "nbformat": 4,
 "nbformat_minor": 2
}
