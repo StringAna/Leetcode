{
 "cells": [
  {
   "cell_type": "code",
   "execution_count": null,
   "metadata": {},
   "outputs": [],
   "source": [
    "# Definition for singly-linked list.\n",
    "class ListNode(object):\n",
    "    def __init__(self, val=0, next=None):\n",
    "        self.val = val\n",
    "        self.next = next\n",
    "class Solution(object):\n",
    "    def mergeTwoLists(self, list1, list2):\n",
    "        \"\"\"\n",
    "        :type list1: Optional[ListNode]\n",
    "        :type list2: Optional[ListNode]\n",
    "        :rtype: Optional[ListNode]\n",
    "        \"\"\"\n",
    "        #create a dummy node to start the merged linked list\n",
    "        dummy=ListNode()\n",
    "        current=dummy\n",
    "\n",
    "        #Go through both the list and merge them\n",
    "        while list1 and list2:\n",
    "            if list1.val<list2.val:\n",
    "                current.next=list1\n",
    "                list1=list1.next\n",
    "            else:\n",
    "                current.next=list2\n",
    "                list2=list2.next\n",
    "            current=current.next\n",
    "        \n",
    "        #For the remaining nodes\n",
    "        if list1:\n",
    "            current.next=list1\n",
    "        if list2:\n",
    "            current.next=list2\n",
    "        \n",
    "        #the merged list starts after the dummy node\n",
    "        return dummy.next\n",
    "\n",
    "# Example usage:\n",
    "# Creating two linked lists for testing\n",
    "list1 = ListNode(1, ListNode(2, ListNode(4)))\n",
    "list2 = ListNode(1, ListNode(3, ListNode(4)))\n",
    "# Merging the two lists\n",
    "solution = Solution()\n",
    "merged_list = solution.mergeTwoLists(list1, list2)\n",
    "# Printing the merged linked list\n",
    "while merged_list:\n",
    "    print(merged_list.val, end=\" -> \")\n",
    "    merged_list = merged_list.next\n",
    "        "
   ]
  },
  {
   "cell_type": "code",
   "execution_count": null,
   "metadata": {},
   "outputs": [],
   "source": []
  }
 ],
 "metadata": {
  "kernelspec": {
   "display_name": "DataMining584",
   "language": "python",
   "name": "python3"
  },
  "language_info": {
   "codemirror_mode": {
    "name": "ipython",
    "version": 3
   },
   "file_extension": ".py",
   "mimetype": "text/x-python",
   "name": "python",
   "nbconvert_exporter": "python",
   "pygments_lexer": "ipython3",
   "version": "3.9.17"
  }
 },
 "nbformat": 4,
 "nbformat_minor": 2
}
