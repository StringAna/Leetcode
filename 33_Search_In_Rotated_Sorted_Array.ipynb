{
 "cells": [
  {
   "cell_type": "code",
   "execution_count": 1,
   "metadata": {},
   "outputs": [
    {
     "name": "stdout",
     "output_type": "stream",
     "text": [
      "4\n"
     ]
    }
   ],
   "source": [
    "class Solution(object):\n",
    "    def search(self, nums, target):\n",
    "        \"\"\"\n",
    "        :type nums: List[int]\n",
    "        :type target: int\n",
    "        :rtype: int\n",
    "        \"\"\"\n",
    "        left, right=0,(len(nums)-1)\n",
    "        \n",
    "        #For array like this [1], left and right would be equal in that case, we still have to check this value\n",
    "        while left<=right:\n",
    "            # if a subarray is sorted, then update the result and break\n",
    "            # if nums[left]<nums[right]:\n",
    "            #     result=min(result,nums[left])\n",
    "            #     break\n",
    "            \n",
    "            mid=(left+right)//2\n",
    "            if nums[mid]==target:\n",
    "                return mid\n",
    "\n",
    "            # check if we are in the left sorted portion\n",
    "            if nums[left]<=nums[mid]: # = is added because left, mid and right could all be the same, for array like [1]\n",
    "                # if target > mid value, search in the right\n",
    "                #if target < mid and target < nums[left], search right portion\n",
    "                if target>nums[mid] or target<nums[left]:\n",
    "                    left=mid+1\n",
    "                else:\n",
    "                    # means target<nums[mid], but > than nums[left]\n",
    "                    right=mid-1\n",
    "            # right subarray\n",
    "            else:\n",
    "                if target<nums[mid] or target>nums[right]:\n",
    "                    # search in left subarray\n",
    "                    right=mid-1\n",
    "                else:#target>nums[mid] and target<nums[right]\n",
    "                    left=mid+1\n",
    "\n",
    "        return -1\n",
    "#Call the function\n",
    "nums=[4,5,6,7,0,1,2]\n",
    "target=0\n",
    "print(Solution().search(nums,target)) #4"
   ]
  },
  {
   "cell_type": "code",
   "execution_count": null,
   "metadata": {},
   "outputs": [],
   "source": []
  }
 ],
 "metadata": {
  "kernelspec": {
   "display_name": "DataMining584",
   "language": "python",
   "name": "python3"
  },
  "language_info": {
   "codemirror_mode": {
    "name": "ipython",
    "version": 3
   },
   "file_extension": ".py",
   "mimetype": "text/x-python",
   "name": "python",
   "nbconvert_exporter": "python",
   "pygments_lexer": "ipython3",
   "version": "3.9.17"
  }
 },
 "nbformat": 4,
 "nbformat_minor": 2
}
