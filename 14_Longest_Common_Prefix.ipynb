{
 "cells": [
  {
   "cell_type": "code",
   "execution_count": 1,
   "metadata": {},
   "outputs": [
    {
     "name": "stdout",
     "output_type": "stream",
     "text": [
      "fl\n"
     ]
    }
   ],
   "source": [
    "class Solution(object):\n",
    "    def longestCommonPrefix(self, strs):\n",
    "        \"\"\"\n",
    "        :type strs: List[str]\n",
    "        :rtype: str\n",
    "        \"\"\"\n",
    "        # an empty string to store the common prefix\n",
    "        answer=\"\"\n",
    "        strs=sorted(strs)\n",
    "        # we sort so that we can compare the first and the last string\n",
    "        # Iterate through the characters in first and the last string to find the common prefix\n",
    "        first_string=strs[0]\n",
    "        last_string=strs[-1]\n",
    "\n",
    "        for i in range(min(len(first_string),len(last_string))):\n",
    "            if(first_string[i]!=last_string[i]):\n",
    "                return answer\n",
    "            answer+=first_string[i]\n",
    "        return answer\n",
    "\n",
    "#Time complexity is O(n*m) where n is the number of strings and m is the length of the smallest string\n",
    "#Space complexity is O(1) as we are using a constant space\n",
    "#Calling the function\n",
    "s=Solution()\n",
    "print(s.longestCommonPrefix([\"flower\",\"flow\",\"flight\"]))"
   ]
  },
  {
   "cell_type": "code",
   "execution_count": null,
   "metadata": {},
   "outputs": [],
   "source": []
  }
 ],
 "metadata": {
  "kernelspec": {
   "display_name": "DataMining584",
   "language": "python",
   "name": "python3"
  },
  "language_info": {
   "codemirror_mode": {
    "name": "ipython",
    "version": 3
   },
   "file_extension": ".py",
   "mimetype": "text/x-python",
   "name": "python",
   "nbconvert_exporter": "python",
   "pygments_lexer": "ipython3",
   "version": "3.9.17"
  }
 },
 "nbformat": 4,
 "nbformat_minor": 2
}
