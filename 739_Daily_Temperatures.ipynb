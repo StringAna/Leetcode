{
 "cells": [
  {
   "cell_type": "code",
   "execution_count": 3,
   "metadata": {},
   "outputs": [
    {
     "name": "stdout",
     "output_type": "stream",
     "text": [
      "[1, 1, 4, 2, 1, 1, 0, 0]\n",
      "[1, 1, 1, 0, 0]\n",
      "[1, 1, 1, 5, 1, 1, 1, 1, 0]\n"
     ]
    }
   ],
   "source": [
    "from typing import List\n",
    "\n",
    "class Solution:\n",
    "    def dailyTemperatures(self, temperatures: List[int]) -> List[int]:\n",
    "        #result array. Initially 0.\n",
    "        result=[0]*len(temperatures)\n",
    "\n",
    "        #stack\n",
    "        #extra memory. Contains a pair of values - Temperatures,its index. \n",
    "        #Index is used to calculate the difference\n",
    "        stack=[] # pair:[temps,index]\n",
    "\n",
    "        # Iterate through temperatures array.\n",
    "        # enumerate= get the index and the value at the same time\n",
    "        for index,temps in enumerate(temperatures):\n",
    "            # is our stack empty?\n",
    "            # and is temps> top of stack?\n",
    "            # stack[-1][0]= stack[position in stack][position in one block in the stack]\n",
    "            while stack and temps>stack[-1][0]:\n",
    "                # pop from stack (temps,index)\n",
    "                stackTemp,stackIndex=stack.pop()\n",
    "                #in result, we find the difference between indices - Look at notes\n",
    "                result[stackIndex]=(index-stackIndex)\n",
    "            stack.append([temps,index])\n",
    "        #Since we initialized result to 0, no need to add 0 for unpopped items in the stack\n",
    "        return result\n",
    "#Call the function\n",
    "temperatures=[73, 74, 75, 71, 69, 72, 76, 73]\n",
    "sol=Solution()\n",
    "print(sol.dailyTemperatures(temperatures))     \n",
    "temperatures=[30,40,50,60,20] \n",
    "print(sol.dailyTemperatures(temperatures))\n",
    "temperatures=[23,45,67,89,12,34,56,78,90]\n",
    "print(sol.dailyTemperatures(temperatures))"
   ]
  },
  {
   "cell_type": "code",
   "execution_count": null,
   "metadata": {},
   "outputs": [],
   "source": []
  }
 ],
 "metadata": {
  "kernelspec": {
   "display_name": "DataMining584",
   "language": "python",
   "name": "python3"
  },
  "language_info": {
   "codemirror_mode": {
    "name": "ipython",
    "version": 3
   },
   "file_extension": ".py",
   "mimetype": "text/x-python",
   "name": "python",
   "nbconvert_exporter": "python",
   "pygments_lexer": "ipython3",
   "version": "3.9.17"
  }
 },
 "nbformat": 4,
 "nbformat_minor": 2
}
