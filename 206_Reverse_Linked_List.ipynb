{
 "cells": [
  {
   "cell_type": "code",
   "execution_count": 2,
   "metadata": {},
   "outputs": [
    {
     "name": "stdout",
     "output_type": "stream",
     "text": [
      "5\n"
     ]
    }
   ],
   "source": [
    "# Definition for singly-linked list.\n",
    "class ListNode(object):\n",
    "    def __init__(self, val=0, next=None):\n",
    "        self.val = val\n",
    "        self.next = next\n",
    "class Solution(object):\n",
    "    def reverseList(self, head):\n",
    "        \"\"\"\n",
    "        :type head: ListNode\n",
    "        :rtype: ListNode\n",
    "        \"\"\"\n",
    "        prev = None  # Initialize prev to None, as the new tail will point to None\n",
    "        current = head  # Start with the head node\n",
    "        \n",
    "        while current:  # Traverse the list until we reach the end (None)\n",
    "            next_node = current.next  # Save the next node\n",
    "            current.next = prev  # Reverse the link\n",
    "            \n",
    "            # Move the pointers forward for the next iteration\n",
    "            prev = current  # Move prev to current\n",
    "            current = next_node  # Move current to next_node\n",
    "        \n",
    "        return prev  # At the end, prev will point to the new head of the reversed list\n",
    "#Calling the function\n",
    "# Example usage:\n",
    "head = ListNode(1, ListNode(2, ListNode(3, ListNode(4, ListNode(5)))))\n",
    "solution = Solution()\n",
    "reversed_head = solution.reverseList(head)\n",
    "print(reversed_head.val)  # Output: 5\n",
    "        "
   ]
  },
  {
   "cell_type": "code",
   "execution_count": null,
   "metadata": {},
   "outputs": [],
   "source": []
  }
 ],
 "metadata": {
  "kernelspec": {
   "display_name": "DataMining584",
   "language": "python",
   "name": "python3"
  },
  "language_info": {
   "codemirror_mode": {
    "name": "ipython",
    "version": 3
   },
   "file_extension": ".py",
   "mimetype": "text/x-python",
   "name": "python",
   "nbconvert_exporter": "python",
   "pygments_lexer": "ipython3",
   "version": "3.9.17"
  }
 },
 "nbformat": 4,
 "nbformat_minor": 2
}
