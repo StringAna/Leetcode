{
 "cells": [
  {
   "cell_type": "markdown",
   "metadata": {},
   "source": [
    "345. Reverse Vowels of a String\n",
    "\n",
    "Given a string s, reverse only all the vowels in the string and return it.\n",
    "\n",
    "The vowels are 'a', 'e', 'i', 'o', and 'u', and they can appear in both lower and upper cases, more than once.\n",
    "\n",
    " \n",
    "\n",
    "Example 1:\n",
    "\n",
    "Input: s = \"hello\"\n",
    "Output: \"holle\"\n",
    "Example 2:\n",
    "\n",
    "Input: s = \"leetcode\"\n",
    "Output: \"leotcede\"\n",
    " \n",
    "\n",
    "Constraints:\n",
    "\n",
    "1 <= s.length <= 3 * 105\n",
    "s consist of printable ASCII characters."
   ]
  },
  {
   "cell_type": "code",
   "execution_count": 1,
   "metadata": {},
   "outputs": [
    {
     "name": "stdout",
     "output_type": "stream",
     "text": [
      "holle\n",
      "leotcede\n",
      "bleh\n"
     ]
    }
   ],
   "source": [
    "class Solution:\n",
    "    def reverseVowels(self, s: str) -> str:\n",
    "        s_list = list(s)\n",
    "        vowels = {'a', 'e', 'i', 'o', 'u'}\n",
    "        i, j = 0, len(s_list) - 1\n",
    "        while i < j:\n",
    "            if s_list[i].lower() not in vowels:\n",
    "                i += 1\n",
    "            elif s_list[j].lower() not in vowels:\n",
    "                j -= 1\n",
    "            else:\n",
    "                s_list[i], s_list[j] = s_list[j], s_list[i]\n",
    "                i += 1\n",
    "                j -= 1\n",
    "        return ''.join(s_list)\n",
    "\n",
    "#Call the function\n",
    "s = \"hello\"\n",
    "sol = Solution()\n",
    "print(sol.reverseVowels(s))\n",
    "s= \"leetcode\"\n",
    "print(sol.reverseVowels(s))\n",
    "#let user enter the string \n",
    "s = input(\"Enter the string: \")\n",
    "print(sol.reverseVowels(s))"
   ]
  },
  {
   "cell_type": "markdown",
   "metadata": {},
   "source": [
    "Notes:\n",
    "\n",
    "1. Problem was simple. Leetcode runtime could improve, but it did not make any difference even when I tried to optimize the small things.\n",
    "2.  Runtime on LeetCode can vary due to various factors like server load and the specific input on which the solution is tested against"
   ]
  },
  {
   "cell_type": "code",
   "execution_count": null,
   "metadata": {},
   "outputs": [],
   "source": []
  }
 ],
 "metadata": {
  "kernelspec": {
   "display_name": "DataMining584",
   "language": "python",
   "name": "python3"
  },
  "language_info": {
   "codemirror_mode": {
    "name": "ipython",
    "version": 3
   },
   "file_extension": ".py",
   "mimetype": "text/x-python",
   "name": "python",
   "nbconvert_exporter": "python",
   "pygments_lexer": "ipython3",
   "version": "3.9.17"
  }
 },
 "nbformat": 4,
 "nbformat_minor": 2
}
