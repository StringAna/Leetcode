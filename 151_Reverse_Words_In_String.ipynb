{
 "cells": [
  {
   "cell_type": "markdown",
   "metadata": {},
   "source": [
    "Given an input string s, reverse the order of the words.\n",
    "\n",
    "A word is defined as a sequence of non-space characters. The words in s will be separated by at least one space.\n",
    "\n",
    "Return a string of the words in reverse order concatenated by a single space.\n",
    "\n",
    "Note that s may contain leading or trailing spaces or multiple spaces between two words. The returned string should only have a single space separating the words. Do not include any extra spaces.\n",
    "\n",
    " \n",
    "\n",
    "Example 1:\n",
    "\n",
    "Input: s = \"the sky is blue\"\n",
    "Output: \"blue is sky the\"\n",
    "Example 2:\n",
    "\n",
    "Input: s = \"  hello world  \"\n",
    "Output: \"world hello\"\n",
    "Explanation: Your reversed string should not contain leading or trailing spaces.\n",
    "Example 3:\n",
    "\n",
    "Input: s = \"a good   example\"\n",
    "Output: \"example good a\"\n",
    "Explanation: You need to reduce multiple spaces between two words to a single space in the reversed string.\n",
    " \n",
    "\n",
    "Constraints:\n",
    "\n",
    "1 <= s.length <= 104\n",
    "s contains English letters (upper-case and lower-case), digits, and spaces ' '.\n",
    "There is at least one word in s.\n",
    " \n",
    "\n",
    "Follow-up: If the string data type is mutable in your language, can you solve it in-place with O(1) extra space?"
   ]
  },
  {
   "cell_type": "code",
   "execution_count": 1,
   "metadata": {},
   "outputs": [
    {
     "name": "stdout",
     "output_type": "stream",
     "text": [
      "it is what\n"
     ]
    }
   ],
   "source": [
    "class Solution:\n",
    "    def reverseWords(self, s: str) -> str:\n",
    "        s = s.lstrip()  # Removes leading whitespaces\n",
    "        s = s.rstrip()  # Removes trailing whitespaces\n",
    "        s = \" \".join(s.split()[::-1])  # Splits the string into words, reverses the list of words, and joins them back into a string\n",
    "        return s\n",
    "    \n",
    "#Call the function with user input\n",
    "s = input(\"Enter a string: \")\n",
    "sol = Solution()\n",
    "print(sol.reverseWords(s))"
   ]
  },
  {
   "cell_type": "markdown",
   "metadata": {},
   "source": [
    "1. Since in python strings are immutable, I would try to solve this in O(1) space complexity, in place."
   ]
  },
  {
   "cell_type": "markdown",
   "metadata": {},
   "source": []
  }
 ],
 "metadata": {
  "kernelspec": {
   "display_name": "DataMining584",
   "language": "python",
   "name": "python3"
  },
  "language_info": {
   "codemirror_mode": {
    "name": "ipython",
    "version": 3
   },
   "file_extension": ".py",
   "mimetype": "text/x-python",
   "name": "python",
   "nbconvert_exporter": "python",
   "pygments_lexer": "ipython3",
   "version": "3.9.17"
  }
 },
 "nbformat": 4,
 "nbformat_minor": 2
}
